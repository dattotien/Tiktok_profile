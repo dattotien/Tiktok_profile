{
 "cells": [
  {
   "cell_type": "markdown",
   "metadata": {},
   "source": [
    "# Bài tập lớn: Phân tích tương tác và nội dung của một tài khoản Tiktok\n",
    "Môn học: Lập trình xử lý dữ liệu với Python.\n",
    "Thành viên:\n",
    "- Chu Thị Phương Anh.\n",
    "- Phạm Hà Anh.\n",
    "- Tô Tiến Đạt."
   ]
  },
  {
   "cell_type": "markdown",
   "metadata": {},
   "source": [
    "# I. Phân tích tài khoản 'Dòng Máu Việt'"
   ]
  },
  {
   "cell_type": "markdown",
   "metadata": {},
   "source": [
    "# Phần 1: Xử lý dữ liệu (Data Cleaning)"
   ]
  },
  {
   "cell_type": "markdown",
   "metadata": {},
   "source": [
    "Tải các thư viện cần để xử lý dữ liệu"
   ]
  },
  {
   "cell_type": "code",
   "execution_count": null,
   "metadata": {},
   "outputs": [],
   "source": [
    "import numpy as np\n",
    "import pandas as pd\n",
    "import matplotlib.pyplot as plt\n",
    "import seaborn as sns\n",
    "import requests\n",
    "import hashlib\n",
    "import ast\n",
    "import matplotlib as mpl\n",
    "from matplotlib.offsetbox import OffsetImage, AnnotationBbox\n",
    "import random\n",
    "from ast import literal_eval\n",
    "from time import sleep\n",
    "from datetime import datetime\n",
    "from ast import literal_eval\n",
    "import numpy as np\n",
    "import csv\n",
    "import os\n",
    "import re\n",
    "import hashlib\n",
    "import httpx\n",
    "from tqdm import tqdm\n",
    "from concurrent.futures import ThreadPoolExecutor"
   ]
  },
  {
   "cell_type": "markdown",
   "metadata": {},
   "source": [
    "Đọc file dữ liệu"
   ]
  },
  {
   "cell_type": "code",
   "execution_count": null,
   "metadata": {},
   "outputs": [],
   "source": [
    "read_df = pd.read_csv('Data/data.csv',  encoding='ISO-8859-1')"
   ]
  },
  {
   "cell_type": "code",
   "execution_count": null,
   "metadata": {},
   "outputs": [],
   "source": [
    "read_df.info()\n",
    "# ⇒ Dữ liệu chúng ta thu thập được sẽ có 863 bài post và có 80 cột dữ liệu được kéo về"
   ]
  },
  {
   "cell_type": "code",
   "execution_count": null,
   "metadata": {},
   "outputs": [],
   "source": [
    "# Tiếp tục với quá trình xử lý dữ liệu, chúng ta sẽ xóa đi những cột có giá trị null hoàn toàn \n",
    "read_df = read_df.dropna(axis='columns', how='all')"
   ]
  },
  {
   "cell_type": "code",
   "execution_count": null,
   "metadata": {},
   "outputs": [],
   "source": [
    "# ⇒ Với cách này chúng ta đã loại bỏ đi được 2 cột dữ liệu không có giá trị phân tích \n",
    "# => Còn lại 78 cột\n",
    "read_df.info()"
   ]
  },
  {
   "cell_type": "code",
   "execution_count": null,
   "metadata": {},
   "outputs": [],
   "source": [
    "# Tính tỷ lệ giá trị null cho mỗi cột\n",
    "Null_Percentage = read_df.isnull().mean()\n",
    "\n",
    "# Lấy các cột có tỷ lệ giá trị null lớn hơn 99%\n",
    "Null_more_ninety = Null_Percentage[Null_Percentage > 0.99].index\n",
    "\n",
    "# Xóa các cột có tỷ lệ giá trị null lớn hơn 99%\n",
    "read_df = read_df.drop(columns=Null_more_ninety)"
   ]
  },
  {
   "cell_type": "code",
   "execution_count": null,
   "metadata": {},
   "outputs": [],
   "source": [
    "# ⇒ Với cách này chúng ta đã loại bỏ đi được 12 cột dữ liệu không có giá trị phân tích \n",
    "# => Còn 66 cột\n",
    "read_df.info()"
   ]
  },
  {
   "cell_type": "code",
   "execution_count": null,
   "metadata": {},
   "outputs": [],
   "source": [
    "# Lấy các cột có tỷ lệ giá trị null lớn hơn 50% và bé hơn 99%\n",
    "Null_Percentage[(Null_Percentage > 0.5) & (Null_Percentage < 0.99)].index"
   ]
  },
  {
   "cell_type": "markdown",
   "metadata": {},
   "source": [
    "## **Xóa các cột chứa đường link**"
   ]
  },
  {
   "cell_type": "markdown",
   "metadata": {},
   "source": [
    "## 1. Cột 'videoMeta/subtitleLinks/0/tiktokLink'"
   ]
  },
  {
   "cell_type": "code",
   "execution_count": null,
   "metadata": {},
   "outputs": [],
   "source": [
    "# # Ở đây chúng ta sẽ có một số các cột chứa các đường link, chúng ta sẽ kiểm tra xem các đường link đó có truy cập được không nếu không thì chúng ta sẽ xóa nó đi \n",
    "# Hàm kiểm tra link\n",
    "def check_link(link, expected_hash_value):\n",
    "    try:\n",
    "        with httpx.Client(timeout=5) as client:\n",
    "            response = client.get(link)\n",
    "        if response.status_code == 200:\n",
    "            sha256_hash = hashlib.sha256(link.encode()).hexdigest()\n",
    "            if sha256_hash == expected_hash_value:\n",
    "                return link\n",
    "    except (httpx.RequestError, httpx.TimeoutException):\n",
    "        pass\n",
    "    return np.nan\n",
    "\n",
    "# Hàm xử lý song song với tiến trình\n",
    "def process_links(links, expected_hash_value):\n",
    "    with ThreadPoolExecutor(max_workers=min(10, len(links))) as executor:\n",
    "        results = list(tqdm(executor.map(lambda link: check_link(link, expected_hash_value), links), total=len(links)))\n",
    "    return results\n",
    "\n",
    "# Lọc các giá trị hợp lệ\n",
    "expected_hash_value = \"098f6bcd4621d373cade4e832627b4f6\"\n",
    "valid_links = read_df['videoMeta/subtitleLinks/0/tiktokLink'].dropna()\n",
    "\n",
    "# Xử lý các giá trị hợp lệ\n",
    "processed_links = process_links(valid_links, expected_hash_value)\n",
    "\n",
    "# Tạo một bản sao cột để lưu kết quả\n",
    "processed_column = read_df['videoMeta/subtitleLinks/0/tiktokLink'].copy()\n",
    "\n",
    "# Gán kết quả đã xử lý vào đúng vị trí\n",
    "processed_column.loc[valid_links.index] = processed_links\n",
    "\n",
    "# Cập nhật cột trong DataFrame\n",
    "read_df['videoMeta/subtitleLinks/0/tiktokLink'] = processed_column\n",
    "\n",
    "# Kiểm tra và loại bỏ cột nếu cần\n",
    "if not read_df['videoMeta/subtitleLinks/0/tiktokLink'].isna().all():\n",
    "    read_df.drop(columns=['videoMeta/subtitleLinks/0/tiktokLink'], inplace=True)\n"
   ]
  },
  {
   "cell_type": "code",
   "execution_count": null,
   "metadata": {},
   "outputs": [],
   "source": [
    "#In ra tỉ lệ giá trị Null của cột này:\n",
    "Null_Percentage['videoMeta/subtitleLinks/0/tiktokLink']"
   ]
  },
  {
   "cell_type": "code",
   "execution_count": null,
   "metadata": {},
   "outputs": [],
   "source": [
    "#Tỉ lệ lớn lớn 50% ->Xóa\n",
    "columns_to_drop = ['videoMeta/subtitleLinks/0/tiktokLink', 'videoMeta/subtitleLinks/0/tiktokLink_valid']\n",
    "read_df = read_df.drop(columns=[col for col in columns_to_drop if col in read_df.columns])"
   ]
  },
  {
   "cell_type": "code",
   "execution_count": null,
   "metadata": {},
   "outputs": [],
   "source": [
    "read_df.info()"
   ]
  },
  {
   "cell_type": "markdown",
   "metadata": {},
   "source": [
    "## 2. Cột 'videoMeta/subtitleLinks/0/downloadLink'"
   ]
  },
  {
   "cell_type": "code",
   "execution_count": null,
   "metadata": {},
   "outputs": [],
   "source": [
    "print(read_df.columns.tolist())"
   ]
  },
  {
   "cell_type": "code",
   "execution_count": null,
   "metadata": {},
   "outputs": [],
   "source": [
    "# Hàm kiểm tra link\n",
    "def check_link(link, expected_hash_value):\n",
    "    try:\n",
    "        with httpx.Client(timeout=5) as client:\n",
    "            response = client.get(link)\n",
    "        if response.status_code == 200:\n",
    "            sha256_hash = hashlib.sha256(link.encode()).hexdigest()\n",
    "            if sha256_hash == expected_hash_value:\n",
    "                return link\n",
    "    except (httpx.RequestError, httpx.TimeoutException):\n",
    "        pass\n",
    "    return np.nan\n",
    "\n",
    "# Hàm xử lý song song với tiến trình\n",
    "def process_links(links, expected_hash_value):\n",
    "    with ThreadPoolExecutor(max_workers=min(10, len(links))) as executor:\n",
    "        results = list(tqdm(executor.map(lambda link: check_link(link, expected_hash_value), links), total=len(links)))\n",
    "    return results\n",
    "\n",
    "# Lọc các giá trị hợp lệ\n",
    "expected_hash_value = \"098f6bcd4621d373cade4e832627b4f6\"\n",
    "valid_links = read_df['videoMeta/subtitleLinks/0/downloadLink'].dropna()\n",
    "\n",
    "# Xử lý các giá trị hợp lệ\n",
    "processed_links = process_links(valid_links, expected_hash_value)\n",
    "\n",
    "# Tạo một bản sao cột để lưu kết quả\n",
    "processed_column = read_df['videoMeta/subtitleLinks/0/downloadLink'].copy()\n",
    "\n",
    "# Gán kết quả đã xử lý vào đúng vị trí\n",
    "processed_column.loc[valid_links.index] = processed_links\n",
    "\n",
    "# Cập nhật cột trong DataFrame\n",
    "read_df['videoMeta/subtitleLinks/0/downloadLink'] = processed_column\n",
    "\n",
    "# Kiểm tra và loại bỏ cột nếu cần\n",
    "if not read_df['videoMeta/subtitleLinks/0/downloadLink'].isna().all():\n",
    "    read_df.drop(columns=['videoMeta/subtitleLinks/0/downloadLink'], inplace=True)\n"
   ]
  },
  {
   "cell_type": "code",
   "execution_count": null,
   "metadata": {},
   "outputs": [],
   "source": [
    "#Tỉ lệ Null của cột này:\n",
    "Null_Percentage['videoMeta/subtitleLinks/0/downloadLink']"
   ]
  },
  {
   "cell_type": "code",
   "execution_count": null,
   "metadata": {},
   "outputs": [],
   "source": [
    "# ⇒ Kết quả lớn hơn 50% ⇒ Xóa cột này đi \n",
    "columns_to_drop = ['videoMeta/subtitleLinks/0/downloadLink', 'videoMeta/subtitleLinks/0/downloadLink_valid']\n",
    "read_df = read_df.drop(columns=[col for col in columns_to_drop if col in read_df.columns])"
   ]
  },
  {
   "cell_type": "code",
   "execution_count": null,
   "metadata": {},
   "outputs": [],
   "source": [
    "read_df.info()"
   ]
  },
  {
   "cell_type": "markdown",
   "metadata": {},
   "source": [
    "## 3. Đối với các cột khác chúng ta sẽ kiểm tra dữ liệu của từng cột và đánh giá xem dữ liệu trong cột đó có sử dụng được hay có giá trị hay không"
   ]
  },
  {
   "cell_type": "markdown",
   "metadata": {},
   "source": [
    "Dựa vào Index(['detailedMentions/0/id', 'detailedMentions/0/nickName',\n",
    "       'detailedMentions/0/profileUrl', 'detailedMentions/1/id',\n",
    "       'detailedMentions/1/name', 'detailedMentions/1/nickName',\n",
    "       'detailedMentions/1/profileUrl', 'hashtags/3/name', 'hashtags/4/name',\n",
    "       'hashtags/5/name', 'hashtags/6/name', 'hashtags/7/name', 'mentions/0',\n",
    "       'mentions/1',\n",
    "       'videoMeta/subtitleLinks/0/language',],\n",
    "      dtype='object')"
   ]
  },
  {
   "cell_type": "code",
   "execution_count": null,
   "metadata": {},
   "outputs": [],
   "source": [
    "read_df['detailedMentions/0/id'].dropna().head(200)\n",
    "\n",
    "# Dữ liệu ở cột này không có giá trị phân tích => Cột này sẽ bị xóa\n",
    "read_df = read_df.drop(columns = 'detailedMentions/0/id')"
   ]
  },
  {
   "cell_type": "code",
   "execution_count": null,
   "metadata": {},
   "outputs": [],
   "source": [
    "read_df.info()"
   ]
  },
  {
   "cell_type": "markdown",
   "metadata": {},
   "source": [
    "**Tương tự với các cột 'detailedMentions/0/nickName',\n",
    "       'detailedMentions/0/profileUrl', 'detailedMentions/1/id',\n",
    "       'detailedMentions/1/name', 'detailedMentions/1/nickName',\n",
    "       'detailedMentions/1/profileUrl', 'hashtags/3/name', 'hashtags/4/name',\n",
    "       'hashtags/5/name', 'hashtags/6/name', 'hashtags/7/name', 'mentions/0',\n",
    "       'mentions/1',**"
   ]
  },
  {
   "cell_type": "code",
   "execution_count": null,
   "metadata": {},
   "outputs": [],
   "source": [
    "coloumns_drop_many = ['detailedMentions/0/nickName',\n",
    "       'detailedMentions/0/profileUrl', \n",
    "       'detailedMentions/1/id',\n",
    "       'detailedMentions/1/name', \n",
    "       'detailedMentions/1/nickName',\n",
    "       'detailedMentions/1/profileUrl', \n",
    "       'hashtags/3/name', 'hashtags/4/name',\n",
    "       'hashtags/5/name', 'hashtags/6/name', \n",
    "       'hashtags/7/name', 'mentions/0',\n",
    "       'mentions/1',\n",
    "       'videoMeta/subtitleLinks/0/language']\n",
    "\n",
    "read_df = read_df.drop(columns=coloumns_drop_many)"
   ]
  },
  {
   "cell_type": "code",
   "execution_count": null,
   "metadata": {},
   "outputs": [],
   "source": [
    "# => Còn 49 cột\n",
    "read_df.info()"
   ]
  },
  {
   "cell_type": "code",
   "execution_count": null,
   "metadata": {},
   "outputs": [],
   "source": [
    "read_df[\"ï»¿\\\"authorMeta/avatar\\\"\"].dropna().head(200)\n",
    "#Dữ liệu dẫn đến link avatar của chủ sở hữu\n",
    "# => Xóa\n",
    "read_df = read_df.drop(columns=\"ï»¿\\\"authorMeta/avatar\\\"\")"
   ]
  },
  {
   "cell_type": "code",
   "execution_count": null,
   "metadata": {},
   "outputs": [],
   "source": [
    "read_df[\"authorMeta/commerceUserInfo/commerceUser\"].dropna().head(200)\n",
    "#Dữ liệu chỉ toàn giá trị False\n",
    "# => Xóa vì không có giá trị phân tích\n",
    "read_df = read_df.drop(columns=\"authorMeta/commerceUserInfo/commerceUser\")"
   ]
  },
  {
   "cell_type": "code",
   "execution_count": null,
   "metadata": {},
   "outputs": [],
   "source": [
    "read_df[\"authorMeta/digg\"].dropna().head(200)\n",
    "#Dữ liệu chỉ toàn giá trị 0\n",
    "# => Xóa vì không có giá trị phân tích\n",
    "read_df = read_df.drop(columns=\"authorMeta/digg\")"
   ]
  },
  {
   "cell_type": "code",
   "execution_count": null,
   "metadata": {},
   "outputs": [],
   "source": [
    "#Loại bỏ các cột có dữ liệu bất biến\n",
    "for col in read_df.columns:\n",
    "    if read_df[col].nunique() == 1:\n",
    "        read_df = read_df.drop(columns=col)\n",
    "\n",
    "read_df.info()"
   ]
  },
  {
   "cell_type": "code",
   "execution_count": null,
   "metadata": {},
   "outputs": [],
   "source": [
    "coloumns_drop_many = ['musicMeta/coverMediumUrl','musicMeta/musicId',\n",
    "                      'musicMeta/musicName','musicMeta/originalCoverMediumUrl','musicMeta/playUrl']\n",
    "#Tương tự với các cột có dữ liệu không thể phân tích được của tag musicMeta\n",
    "read_df = read_df.drop(columns=coloumns_drop_many)"
   ]
  },
  {
   "cell_type": "code",
   "execution_count": null,
   "metadata": {},
   "outputs": [],
   "source": [
    "coloumns_drop_many = ['videoMeta/coverUrl','videoMeta/definition',\n",
    "                      'videoMeta/height','videoMeta/originalCoverUrl','videoMeta/width']\n",
    "#Tương tự với các cột có dữ liệu không thể phân tích được của tag videoMeta\n",
    "read_df = read_df.drop(columns=coloumns_drop_many)"
   ]
  },
  {
   "cell_type": "code",
   "execution_count": null,
   "metadata": {},
   "outputs": [],
   "source": [
    "read_df[\"id\"].dropna().head(200)\n",
    "#Dữ liệu là các con số\n",
    "# => Xóa vì không có giá trị phân tích\n",
    "read_df = read_df.drop(columns=\"id\")"
   ]
  },
  {
   "cell_type": "code",
   "execution_count": null,
   "metadata": {},
   "outputs": [],
   "source": [
    "read_df[\"webVideoUrl\"].dropna().head(200)\n",
    "#Dữ liệu là các con số\n",
    "# => Xóa vì không có giá trị phân tích\n",
    "read_df = read_df.drop(columns=\"webVideoUrl\")"
   ]
  },
  {
   "cell_type": "code",
   "execution_count": null,
   "metadata": {},
   "outputs": [],
   "source": [
    "#Vậy chúng ta có được 13 cột dữ liệu phân tích\n",
    "read_df.info()"
   ]
  },
  {
   "cell_type": "markdown",
   "metadata": {},
   "source": [
    "Chuyển dữ liệu thời gian về định dạng chuẩn"
   ]
  },
  {
   "cell_type": "code",
   "execution_count": null,
   "metadata": {},
   "outputs": [],
   "source": [
    "from datetime import datetime\n",
    "from dateutil import parser\n",
    "import pytz\n",
    "vietnam_tz = pytz.timezone(\"Asia/Ho_Chi_Minh\")\n",
    "read_df['createTimeISO'] = read_df['createTimeISO'].astype(str)\n",
    "read_df['createTimeISO'] = read_df['createTimeISO'].apply(\n",
    "    lambda x: parser.isoparse(x).astimezone(vietnam_tz)\n",
    ")\n",
    "read_df['createTimeISO'] = read_df['createTimeISO'].astype(str)\n",
    "\n",
    "read_df['createTimeISO'] = read_df['createTimeISO'].apply(\n",
    "    lambda x: datetime.fromisoformat(x).astimezone(vietnam_tz)\n",
    ")\n",
    "read_df['date'] = read_df['createTimeISO'].apply(lambda x: x.date())  # Chỉ lấy ngày\n",
    "read_df['hour'] = read_df['createTimeISO'].apply(lambda x: x.hour)   # Chỉ lấy giờ\n",
    "read_df['year'] = read_df['date'].apply(lambda x: x.year)\n",
    "read_df['month'] = read_df['date'].apply(lambda x: x.month)\n",
    "read_df['day'] = read_df['date'].apply(lambda x: x.day)\n",
    "read_df.drop(columns=['createTimeISO', 'date'])\n"
   ]
  },
  {
   "cell_type": "markdown",
   "metadata": {},
   "source": [
    "Tạo cột text_lenght bao gồm số lượng kí tự của text"
   ]
  },
  {
   "cell_type": "code",
   "execution_count": null,
   "metadata": {},
   "outputs": [],
   "source": [
    "read_df['text']=read_df['text'].astype(str)\n",
    "read_df['text_length']=read_df['text'].apply(lambda x: len(list(x.split(\" \"))))"
   ]
  },
  {
   "cell_type": "markdown",
   "metadata": {},
   "source": [
    "Chỉnh text về lỗi về đúng định dạng chữ tiếng Việt"
   ]
  },
  {
   "cell_type": "code",
   "execution_count": null,
   "metadata": {},
   "outputs": [],
   "source": [
    "read_df['text']= read_df['text'].apply(lambda x: x.encode('latin1').decode('utf-8'))\n",
    "read_df['text'].dropna().head(200)"
   ]
  },
  {
   "cell_type": "markdown",
   "metadata": {},
   "source": [
    "# Phần 2. Khám phá dữ liệu (Data Exploration)"
   ]
  },
  {
   "cell_type": "markdown",
   "metadata": {},
   "source": [
    "## 1. Về xu hướng đăng bài của tài khoản"
   ]
  },
  {
   "cell_type": "markdown",
   "metadata": {},
   "source": [
    "### 1.1 Tần suất đăng bài"
   ]
  },
  {
   "cell_type": "code",
   "execution_count": null,
   "metadata": {},
   "outputs": [],
   "source": [
    "read_df['date'] = pd.to_datetime(read_df[['year', 'month', 'day']])\n",
    "read_df['day_of_week'] = read_df['date'].dt.day_name()\n",
    "day_counts = read_df['day_of_week'].value_counts()\n",
    "days_of_week = ['Monday', 'Tuesday', 'Wednesday', 'Thursday', 'Friday', 'Saturday', 'Sunday']\n",
    "day_counts = day_counts.reindex(days_of_week, fill_value=0)\n",
    "print(day_counts)"
   ]
  },
  {
   "cell_type": "code",
   "execution_count": null,
   "metadata": {},
   "outputs": [],
   "source": [
    "mean = day_counts.mean()\n",
    "print(\"Trung bình:\", mean)\n",
    "population_std = np.std(day_counts)\n",
    "print(\"Độ lệch chuẩn tổng thể:\", population_std)\n",
    "\n",
    "fig, day_plot = plt.subplots(figsize=(14, 6))\n",
    "day_plot.bar(days_of_week, day_counts, color='blue', alpha=0.7, edgecolor='black')\n",
    "day_plot.axhline(mean, color='red', linestyle='--', linewidth=2, label=f\"Trung bình: {mean:.2f}\")\n",
    "\n",
    "day_plot.set_xlabel('Ngày trong tuần')\n",
    "day_plot.set_ylabel('Số bài đăng')\n",
    "day_plot.set_title('Tần suất đăng bài theo ngày trong tuần')\n",
    "\n",
    "for i, count in enumerate(day_counts):\n",
    "    day_plot.text(i, count, int(count), ha='center', va='bottom', fontsize=9, color='black')\n",
    "\n",
    "plt.text(\n",
    "    6.5, mean - 15, f\"Độ lệch chuẩn: {population_std:.2f}\", color='red', fontsize=12, \n",
    "    bbox=dict(facecolor='white', edgecolor='red', boxstyle='round,pad=0.3')\n",
    ")\n",
    "\n",
    "day_plot.legend()\n",
    "plt.tight_layout()\n",
    "plt.show()"
   ]
  },
  {
   "cell_type": "markdown",
   "metadata": {},
   "source": [
    "**Biểu đồ tròn**"
   ]
  },
  {
   "cell_type": "code",
   "execution_count": null,
   "metadata": {},
   "outputs": [],
   "source": [
    "fig, ax = plt.subplots(figsize=(8, 8))\n",
    "colors = plt.cm.Paired(range(len(days_of_week)))\n",
    "\n",
    "ax.pie(\n",
    "    day_counts, \n",
    "    labels=days_of_week, \n",
    "    autopct='%1.1f%%', \n",
    "    startangle=90, \n",
    "    colors=colors, \n",
    "    textprops={'fontsize': 10}\n",
    ")\n",
    "\n",
    "ax.set_title('Tỉ lệ bài đăng theo ngày trong tuần', fontsize=14)\n",
    "\n",
    "plt.tight_layout()\n",
    "plt.show()"
   ]
  },
  {
   "cell_type": "markdown",
   "metadata": {},
   "source": [
    "- Giá trị trung bình là 123.29 bài\n",
    "- Độ lệch chuẩn là 9.74 cho thấy dữ liệu không quá biến động, nghĩa là tần suất đăng bài giữa các ngày khá ổn định\n",
    "- Ngày có số lượng đăng bài cao nhất: Wednesday với 136 bài\n",
    "- Ngày có số lượng đăng bài thấp nhất: Sunday với 105 bài\n",
    "- Các ngày giữa tuần (Monday đến Friday) thường có số lượng bài đăng cao hơn so với cuối tuần (Saturday và Sunday)"
   ]
  },
  {
   "cell_type": "code",
   "execution_count": null,
   "metadata": {},
   "outputs": [],
   "source": [
    "read_df['date'] = pd.to_datetime(read_df[['year', 'month', 'day']])\n",
    "read_df['day_of_month'] = read_df['date'].dt.day\n",
    "day_counts = read_df['day_of_month'].value_counts().sort_index()\n",
    "\n",
    "mean = day_counts.mean()\n",
    "population_std = np.std(day_counts)\n",
    "print('Giá trị trung bình là: ' + str(mean))\n",
    "print('Độ lệch chuẩn là: ' + str(population_std))"
   ]
  },
  {
   "cell_type": "code",
   "execution_count": null,
   "metadata": {},
   "outputs": [],
   "source": [
    "fig, day_plot = plt.subplots(figsize=(14, 6))\n",
    "day_plot.bar(day_counts.index, day_counts, color='blue', alpha=0.7, edgecolor='black')\n",
    "\n",
    "day_plot.axhline(mean, color='red', linestyle='--', linewidth=2, label=f\"Trung bình: {mean:.2f}\")\n",
    "day_plot.set_xlabel('Ngày trong tháng')\n",
    "day_plot.set_ylabel('Số bài đăng')\n",
    "day_plot.set_title('Tần suất đăng bài theo ngày trong tháng')\n",
    "day_plot.set_xticks(day_counts.index)  \n",
    "\n",
    "for i, count in enumerate(day_counts):\n",
    "    day_plot.text(i + 1, count, int(count), ha='center', va='bottom', fontsize=9, color='black')\n",
    "\n",
    "plt.text(\n",
    "    max(day_counts.index) + 1, mean - 5, f\"Độ lệch chuẩn: {population_std:.2f}\", color='red', fontsize=12, \n",
    "    bbox=dict(facecolor='white', edgecolor='red', boxstyle='round,pad=0.3')\n",
    ")\n",
    "day_plot.legend()\n",
    "plt.tight_layout()\n",
    "plt.show()"
   ]
  },
  {
   "cell_type": "code",
   "execution_count": null,
   "metadata": {},
   "outputs": [],
   "source": [
    "read_df['date'] = pd.to_datetime(read_df[['year', 'month', 'day']])\n",
    "daily_counts = read_df.groupby('date').size().reset_index(name='post_count')\n",
    "\n",
    "mean_posts = daily_counts['post_count'].mean()  \n",
    "std_posts = daily_counts['post_count'].std()   \n",
    "median_posts = daily_counts['post_count'].median() \n",
    "max_posts = daily_counts['post_count'].max()  \n",
    "min_posts = daily_counts['post_count'].min()  \n",
    "\n",
    "# In ra các giá trị tính toán\n",
    "print(f\"Trung bình số bài đăng theo ngày: {mean_posts:.2f}\")\n",
    "print(f\"Độ lệch chuẩn của số bài đăng theo ngày: {std_posts:.2f}\")\n",
    "print(f\"Trung vị số bài đăng theo ngày: {median_posts:.2f}\")\n",
    "print(f\"Số bài đăng ngày cao nhất: {max_posts}\")\n",
    "print(f\"Số bài đăng ngày thấp nhất: {min_posts}\")"
   ]
  },
  {
   "cell_type": "code",
   "execution_count": null,
   "metadata": {},
   "outputs": [],
   "source": [
    "plt.figure(figsize=(20, 6))\n",
    "sns.lineplot(data=daily_counts, x='date', y='post_count', color='blue')\n",
    "\n",
    "plt.title('Số lượng bài đăng qua các ngày', fontsize=16)\n",
    "plt.xlabel('Ngày', fontsize=14)\n",
    "plt.ylabel('Số bài đăng', fontsize=14)\n",
    "plt.xticks(rotation=45)  \n",
    "plt.grid(True, linestyle='--', alpha=0.5)\n",
    "\n",
    "plt.tight_layout()\n",
    "plt.show()"
   ]
  },
  {
   "cell_type": "markdown",
   "metadata": {},
   "source": [
    "- Tần suất đăng bài khá ổn định với nhiều ngày có mức bài đăng tối thiểu (1 bài/ngày).\n",
    "- Có một số thời điểm tài khoản này hoạt động tích cực hơn, với số bài đăng dao động từ 2-3 bài/ngày."
   ]
  },
  {
   "cell_type": "code",
   "execution_count": null,
   "metadata": {},
   "outputs": [],
   "source": [
    "import matplotlib.dates as mdates\n",
    "read_df['Date'] = pd.to_datetime(read_df[['year', 'month', 'day']])\n",
    "\n",
    "weekly_posts = read_df.resample('W', on='Date').size()\n",
    "mean_posts = weekly_posts.mean() \n",
    "std_posts = weekly_posts.std()   \n",
    "median_posts = weekly_posts.median()  \n",
    "max_posts = weekly_posts.max()  \n",
    "min_posts = weekly_posts.min() \n",
    "\n",
    "print(f\"Trung bình số bài đăng theo tuần: {mean_posts:.2f}\")\n",
    "print(f\"Độ lệch chuẩn của số bài đăng theo tuần: {std_posts:.2f}\")\n",
    "print(f\"Trung vị số bài đăng theo tuần: {median_posts:.2f}\")\n",
    "print(f\"Số bài đăng tuần cao nhất: {max_posts}\")\n",
    "print(f\"Số bài đăng tuần thấp nhất: {min_posts}\")"
   ]
  },
  {
   "cell_type": "code",
   "execution_count": null,
   "metadata": {},
   "outputs": [],
   "source": [
    "plt.figure(figsize=(8, 5))\n",
    "plt.plot(weekly_posts.index, weekly_posts.values, label='Số bài đăng', color='blue')\n",
    "plt.title('Số bài đăng theo tuần')\n",
    "plt.xlabel('Tuần')\n",
    "plt.ylabel('Số lượng bài đăng')\n",
    "plt.grid(True)\n",
    "plt.legend()\n",
    "\n",
    "plt.gca().xaxis.set_major_locator(mdates.MonthLocator(interval=3))  \n",
    "plt.gca().xaxis.set_minor_locator(mdates.MonthLocator())  \n",
    "plt.gca().xaxis.set_major_formatter(mdates.DateFormatter('%b %Y'))  \n",
    "plt.xticks(rotation=45) \n",
    "\n",
    "plt.tight_layout()\n",
    "plt.show()"
   ]
  },
  {
   "cell_type": "markdown",
   "metadata": {},
   "source": [
    "- Trung bình số bài đăng theo tuần: 4.69\n",
    "- Xu hướng tổng thể cho thấy số lượng bài đăng theo tuần có xu hướng cao điểm vào năm 2022 và năm 2023.\n",
    "- Sau giai đoạn này, tần suất đăng bài có xu hướng giảm dần."
   ]
  },
  {
   "cell_type": "code",
   "execution_count": null,
   "metadata": {},
   "outputs": [],
   "source": [
    "read_df['Date'] = pd.to_datetime(read_df[['year', 'month', 'day']])\n",
    "monthly_posts = read_df.resample('ME', on='Date').size()\n",
    "mean_posts = monthly_posts.mean()  \n",
    "std_posts = monthly_posts.std()   \n",
    "median_posts = monthly_posts.median() \n",
    "max_posts = monthly_posts.max()  \n",
    "min_posts = monthly_posts.min()  \n",
    "\n",
    "print(f\"Trung bình số bài đăng theo tháng: {mean_posts:.2f}\")\n",
    "print(f\"Độ lệch chuẩn của số bài đăng theo tháng: {std_posts:.2f}\")\n",
    "print(f\"Trung vị số bài đăng theo tháng: {median_posts:.2f}\")\n",
    "print(f\"Số bài đăng tháng cao nhất: {max_posts}\")\n",
    "print(f\"Số bài đăng tháng thấp nhất: {min_posts}\")"
   ]
  },
  {
   "cell_type": "code",
   "execution_count": null,
   "metadata": {},
   "outputs": [],
   "source": [
    "plt.figure(figsize=(10, 5))  \n",
    "plt.plot(monthly_posts.index, monthly_posts.values, label='Số bài đăng', color='orange')\n",
    "plt.title('Số bài đăng theo tháng')\n",
    "plt.xlabel('Tháng')\n",
    "plt.ylabel('Số lượng bài đăng')\n",
    "plt.grid(True, linestyle='--', linewidth=0.5)\n",
    "plt.legend()\n",
    "\n",
    "plt.gca().xaxis.set_major_locator(mdates.MonthLocator(interval=2)) \n",
    "plt.gca().xaxis.set_minor_locator(mdates.MonthLocator()) \n",
    "plt.gca().xaxis.set_major_formatter(mdates.DateFormatter('%b %Y')) \n",
    "plt.xticks(rotation=45, fontsize=8) \n",
    "\n",
    "plt.tight_layout()\n",
    "plt.show()"
   ]
  },
  {
   "cell_type": "markdown",
   "metadata": {},
   "source": [
    "- Giai đoạn từ cuối năm 2021 đến đầu năm 2023 là thời điểm hoạt động mạnh nhất, với số lượng bài đăng cao, đạt đỉnh trên 40 bài/tháng.\n",
    "- Sau đỉnh cao này, hoạt động giảm mạnh từ giữa năm 2023, duy trì ở mức thấp hơn 13 bài/tháng."
   ]
  },
  {
   "cell_type": "code",
   "execution_count": null,
   "metadata": {},
   "outputs": [],
   "source": [
    "read_df['Date'] = pd.to_datetime(read_df[['year', 'month', 'day']])\n",
    "\n",
    "yearly_posts = read_df.resample('YE', on='Date').size()\n",
    "mean_posts = yearly_posts.mean() \n",
    "std_posts = yearly_posts.std()   \n",
    "median_posts = yearly_posts.median()  \n",
    "max_posts = yearly_posts.max()  \n",
    "min_posts = yearly_posts.min()\n",
    "\n",
    "print(\"Số bài đăng từng năm:\")\n",
    "print(yearly_posts)\n",
    "print(f\"Trung bình số bài đăng theo năm: {mean_posts:.2f}\")\n",
    "print(f\"Độ lệch chuẩn của số bài đăng theo năm: {std_posts:.2f}\")\n",
    "print(f\"Trung vị số bài đăng theo năm: {median_posts:.2f}\")\n",
    "print(f\"Số bài đăng năm cao nhất: {max_posts}\")\n",
    "print(f\"Số bài đăng năm thấp nhất: {min_posts}\")"
   ]
  },
  {
   "cell_type": "code",
   "execution_count": null,
   "metadata": {},
   "outputs": [],
   "source": [
    "plt.figure(figsize=(8, 5))\n",
    "plt.plot(yearly_posts.index, yearly_posts.values, label='Số bài đăng', color='green')\n",
    "plt.title('Số bài đăng theo năm')\n",
    "plt.xlabel('Năm')\n",
    "plt.ylabel('Số lượng bài đăng')\n",
    "plt.grid(True)\n",
    "plt.legend()\n",
    "\n",
    "plt.gca().xaxis.set_major_locator(mdates.YearLocator())\n",
    "plt.gca().xaxis.set_major_formatter(mdates.DateFormatter('%Y'))\n",
    "\n",
    "plt.tight_layout()\n",
    "plt.show()\n"
   ]
  },
  {
   "cell_type": "markdown",
   "metadata": {},
   "source": [
    "- Dựa vào đồ thị, chúng ta có thể thấy được:\n",
    "    + Số lượng bài đăng có xu hướng tăng lên từ năm 2022 đến năm 2023, đạt đỉnh ở khoảng 350 bài.\n",
    "    + Sau năm 2023, số lượng bài đăng bắt đầu giảm dần."
   ]
  },
  {
   "cell_type": "markdown",
   "metadata": {},
   "source": [
    "### 1.2 Khung giờ đăng bài trong ngày "
   ]
  },
  {
   "cell_type": "code",
   "execution_count": null,
   "metadata": {},
   "outputs": [],
   "source": [
    "fig, time = plt.subplots(figsize=(14, 6))\n",
    "time.hist(read_df['hour'], bins=np.arange(0, 25, 1), color='salmon', rwidth=0.9,align='left')\n",
    "time.set_xticks(range(0, 24))\n",
    "time.set_xlabel('Giờ')\n",
    "time.set_ylabel('Số bài đăng')\n",
    "time.set_title('Phân bố thời gian đăng bài trong ngày')\n",
    "for patch in time.patches:\n",
    "    height = patch.get_height()\n",
    "    if height > 0:\n",
    "        time.text(patch.get_x() + patch.get_width() / 2,\n",
    "                  height,\n",
    "                  int(height),\n",
    "                  ha='center', va='bottom', fontsize=9, color='black')\n",
    "plt.show()\n"
   ]
  },
  {
   "cell_type": "markdown",
   "metadata": {},
   "source": [
    "Từ dữ biểu đồ trên, ta dễ dàng có thể thấy 2 khung giờ đăng bài phổ biến nhất là từ 10 - 12h và từ 17 - 19h. Đây là các thời gian nghỉ trưa, nghỉ buổi chiều của đa số mọi người, khung giờ dễ lấy được tương tác là thời gian mọi người rảnh để có thể vào xem."
   ]
  },
  {
   "cell_type": "markdown",
   "metadata": {},
   "source": [
    "### 1.3 Thời lượng video "
   ]
  },
  {
   "cell_type": "code",
   "execution_count": null,
   "metadata": {},
   "outputs": [],
   "source": [
    "# Trung bình độ dài video:\n",
    "Median = read_df[\"videoMeta/duration\"].median()\n",
    "Mean = read_df[\"videoMeta/duration\"].mean()\n",
    "print(\"Trung bình thời lượng video là: \" + str(float(Median)))\n",
    "print(\"Trung vị độ dài video là: \"+ str(float(Mean)))"
   ]
  },
  {
   "cell_type": "code",
   "execution_count": null,
   "metadata": {},
   "outputs": [],
   "source": [
    "#Độ dài tối thiểu, tối đa:\n",
    "Max_video = read_df['videoMeta/duration'].max()\n",
    "Min_video = read_df['videoMeta/duration'].min()\n",
    "\n",
    "Standard_deviation = read_df['videoMeta/duration'].std()\n",
    "print(\"Độ dài video tối thiểu là: \" + str(float(Min_video)))\n",
    "print(\"Độ dài video tối đa là: \" + str(float(Max_video)))\n",
    "print(\"Độ lệch chuẩn: \" + str(float(Standard_deviation)))"
   ]
  },
  {
   "cell_type": "code",
   "execution_count": null,
   "metadata": {},
   "outputs": [],
   "source": [
    "plt.figure(figsize=(16, 6))  \n",
    "sns.set_theme(style=\"whitegrid\", context=\"talk\")\n",
    "\n",
    "sns.stripplot(\n",
    "    data=read_df, \n",
    "    x=\"videoMeta/duration\", \n",
    "    color=\"orange\", \n",
    "    jitter=0.25,         \n",
    "    size=6,              \n",
    "    alpha=0.8            \n",
    ")\n",
    "\n",
    "\n",
    "plt.axvline(Median, color='blue', linestyle='--', label=f'Trung vị: {Median:.1f}s', linewidth=2)\n",
    "plt.axvline(Mean, color='red', linestyle='-', label=f'Trung bình: {Mean:.1f}s', linewidth=2)\n",
    "\n",
    "plt.title(\"Phân bố độ dài video\", fontsize=18, fontweight='bold', pad=20)\n",
    "plt.xlabel(\"Thời lượng video (giây)\", fontsize=14, labelpad=10)\n",
    "plt.ylabel(\"Tần suất\", fontsize=14, labelpad=10)\n",
    "\n",
    "plt.xticks(fontsize=12, rotation=0)  \n",
    "plt.yticks(fontsize=12)\n",
    "plt.xlim(10, 180)  \n",
    "\n",
    "# Chú thích\n",
    "plt.legend(fontsize=12, loc='upper right')\n",
    "\n",
    "# Thêm lưới nhẹ\n",
    "plt.grid(axis='x', linestyle='--', alpha=0.5)\n",
    "plt.show()\n"
   ]
  },
  {
   "cell_type": "markdown",
   "metadata": {},
   "source": [
    "Ta có thể thấy rằng thời lượng video được phân bố khá đều từ khoảng 10 giây đến 180 giây. Trong đó với trung vị khoảng 79.0s và giá trị tủng bình khoảng 112.7s \n",
    "=> Đây là đặc trưng thời lượng video của ứng dụng giải trí nhanh giúp người xem dễ dàng tiếp thu kiến thức qua các video ngắn, dễ hiểu, dễ nhớ\n",
    "\n",
    "Thêm vào đó, dựa vào biểu đồ, xu hướng up video của kênh thường tập trung nhiều vào các video dài 40s-60s, đây là khoảng thời gian lý tưởng để tối ưu hóa nội dung cho người xem khi xem một video về lịch sử\n",
    "\n"
   ]
  },
  {
   "cell_type": "code",
   "execution_count": null,
   "metadata": {},
   "outputs": [],
   "source": [
    "plt.figure(figsize=(16, 6))  \n",
    "sns.set_theme(style=\"whitegrid\", context=\"talk\")\n",
    "# Biểu đồ phân phối\n",
    "sns.histplot(read_df[\"videoMeta/duration\"], bins=30, kde=True)\n",
    "plt.title('Phân phối độ dài video')\n",
    "plt.xlabel('Độ dài (giây)')\n",
    "plt.ylabel('Tần suất')\n",
    "plt.show()"
   ]
  },
  {
   "cell_type": "markdown",
   "metadata": {},
   "source": [
    "Dựa vào biểu đồ ta có thể thấy rằng: Khi độ dài video tăng (lớn hơn 100 giây), tần suất giảm dần, cho thấy ít video có thời lượng dài hơn. Bên cạnh đó, phân phối có xu hướng lệch phải, đặc trưng bởi số lượng lớn các video ngắn và giảm dần khi độ dài tăng lên."
   ]
  },
  {
   "cell_type": "markdown",
   "metadata": {},
   "source": [
    "**Tổng quan thời lượng video qua các ngày**"
   ]
  },
  {
   "cell_type": "code",
   "execution_count": null,
   "metadata": {},
   "outputs": [],
   "source": [
    "plt.figure(figsize=(20,4))\n",
    "sns.lineplot(data = read_df, x = read_df['date'], y= read_df['videoMeta/duration'])\n",
    "plt.title('Thời lượng video thay đổi theo ngày')\n",
    "plt.xlabel('Ngày')\n",
    "plt.ylabel('Độ dài video(s)')\n",
    "plt.show()"
   ]
  },
  {
   "cell_type": "markdown",
   "metadata": {},
   "source": [
    "Từ năm 2022-2023, thời lượng của video khá lớn và giữ vững giá trị tủng bình, tuy nhiên đến năm 2024, tần suất dài của video giảm mạnh dù vẫn đạt các cột mốc lượng trung bình của video tăng mạnh"
   ]
  },
  {
   "cell_type": "markdown",
   "metadata": {},
   "source": [
    "**Phân tích độ dài video theo thời gian**"
   ]
  },
  {
   "cell_type": "code",
   "execution_count": null,
   "metadata": {},
   "outputs": [],
   "source": [
    "avgl_day = read_df.groupby('day')['videoMeta/duration'].mean().reset_index(name='avgl_day')\n",
    "avgl_month = read_df.groupby('month')['videoMeta/duration'].mean().reset_index(name='avgl_month')\n",
    "avgl_year = read_df.groupby('year')['videoMeta/duration'].mean().reset_index(name='avgl_year')\n",
    "\n",
    "# Thiết lập kiểu và palette\n",
    "sns.set_style('whitegrid')\n",
    "\n",
    "# Tạo figure và các axes\n",
    "fig, axes = plt.subplots(3, 1, figsize=(10, 12), sharex=False)\n",
    "\n",
    "# Vẽ biểu đồ cho ngày\n",
    "axes[0].plot(\n",
    "    avgl_day['day'].astype(str),\n",
    "    avgl_day['avgl_day'],\n",
    "    marker='o',\n",
    "    linestyle='-',\n",
    "    linewidth=2,\n",
    "    markersize=8,\n",
    "    color='blue',\n",
    "    label='Độ dài trung bình'\n",
    ")\n",
    "axes[0].set_title('Sự thay đổi độ dài video theo ngày', fontsize=16, fontweight='bold', color='#264653')\n",
    "axes[0].set_xlabel('Ngày', fontsize=13, color='#264653')\n",
    "axes[0].set_ylabel('Độ dài trung bình (giây)', fontsize=13, color='#264653')\n",
    "axes[0].legend(fontsize=12, loc='upper left', frameon=True, framealpha=0.9, shadow=True)\n",
    "axes[0].grid(True, linestyle='--', alpha=0.5)\n",
    "\n",
    "axes[1].plot(\n",
    "    avgl_month['month'].astype(str),\n",
    "    avgl_month['avgl_month'],\n",
    "    marker='o',\n",
    "    linestyle='-',\n",
    "    linewidth=2,\n",
    "    markersize=8,\n",
    "    color='blue',\n",
    "    label='Độ dài trung bình'\n",
    ")\n",
    "axes[1].set_title('Sự thay đổi độ dài video theo tháng', fontsize=16, fontweight='bold', color='#264653')\n",
    "axes[1].set_xlabel('Tháng', fontsize=13, color='#264653')\n",
    "axes[1].set_ylabel('Độ dài trung bình (giây)', fontsize=13, color='#264653')\n",
    "axes[1].legend(fontsize=12, loc='upper left', frameon=True, framealpha=0.9, shadow=True)\n",
    "axes[1].grid(True, linestyle='--', alpha=0.5)\n",
    "\n",
    "axes[2].plot(\n",
    "    avgl_year['year'].astype(str),\n",
    "    avgl_year['avgl_year'],\n",
    "    marker='o',\n",
    "    linestyle='-',\n",
    "    linewidth=2,\n",
    "    markersize=8,\n",
    "    color='blue',\n",
    "    label='Độ dài trung bình'\n",
    ")\n",
    "axes[2].set_title('Sự thay đổi độ dài video theo năm', fontsize=16, fontweight='bold', color='#264653')\n",
    "axes[2].set_xlabel('Năm', fontsize=13, color='#264653')\n",
    "axes[2].set_ylabel('Độ dài trung bình (giây)', fontsize=13, color='#264653')\n",
    "axes[2].legend(fontsize=12, loc='upper left', frameon=True, framealpha=0.9, shadow=True)\n",
    "axes[2].grid(True, linestyle='--', alpha=0.5)\n",
    "\n",
    "plt.tight_layout()\n",
    "plt.show()\n"
   ]
  },
  {
   "cell_type": "markdown",
   "metadata": {},
   "source": [
    "Dựa vào biểu đồ, độ dài trung bình của video có xu hướng giảm xuống, giảm mạnh nhất theo từng năm"
   ]
  },
  {
   "cell_type": "markdown",
   "metadata": {},
   "source": [
    "**Dạng Barplot**"
   ]
  },
  {
   "cell_type": "code",
   "execution_count": null,
   "metadata": {},
   "outputs": [],
   "source": [
    "video_duration_by_week = pd.DataFrame()\n",
    "video_duration_by_week['Week'] = pd.to_datetime(read_df['createTimeISO']).dt.strftime('%Y-%W')\n",
    "video_duration_by_week = video_duration_by_week.sort_values('Week')\n",
    "video_duration_by_week = video_duration_by_week.groupby('Week').size().reset_index(name='Video Duration')\n",
    "\n",
    "video_duration_by_month = pd.DataFrame()\n",
    "video_duration_by_month['Month'] = pd.to_datetime(read_df['createTimeISO']).dt.strftime('%Y-%m')\n",
    "video_duration_by_month = video_duration_by_month.sort_values('Month')\n",
    "video_duration_by_month = video_duration_by_month.groupby('Month').size().reset_index(name='Video Duration')\n",
    "\n",
    "video_duration_by_year = pd.DataFrame()\n",
    "video_duration_by_year['Year'] = pd.to_datetime(read_df['createTimeISO']).dt.strftime('%Y')\n",
    "video_duration_by_year = video_duration_by_year.sort_values('Year')\n",
    "video_duration_by_year = video_duration_by_year.groupby('Year').size().reset_index(name='Video Duration')\n",
    "\n"
   ]
  },
  {
   "cell_type": "code",
   "execution_count": null,
   "metadata": {},
   "outputs": [],
   "source": [
    "fig, axes = plt.subplots(3,1,figsize = (20,20))\n",
    "sns.barplot(data= video_duration_by_week, x = 'Week', y='Video Duration', ax=axes[0], hue = 'Week')\n",
    "axes[0].set_xlabel('Week', fontsize = 14)\n",
    "axes[0].set_ylabel('Video Duration', fontsize = 14)\n",
    "axes[0].set_title('Video Duration by Week', fontsize =18)\n",
    "\n",
    "sns.barplot(data= video_duration_by_month, x = 'Month', y='Video Duration', ax=axes[1], hue = 'Month')\n",
    "axes[1].set_xlabel('Month', fontsize = 14)\n",
    "axes[1].set_ylabel('Video Duration', fontsize = 14)\n",
    "axes[1].set_title('Video Duration by Month', fontsize =18)\n",
    "\n",
    "sns.barplot(data= video_duration_by_year, x ='Year', y='Video Duration', ax=axes[2], hue = 'Year')\n",
    "axes[2].set_xlabel('Year', fontsize = 14)\n",
    "axes[2].set_ylabel('Video Duration', fontsize = 14)\n",
    "axes[2].set_title('Video Duration by Year', fontsize =18)\n"
   ]
  },
  {
   "cell_type": "markdown",
   "metadata": {},
   "source": [
    "Ta có thể thấy rằng thời lượng video có xu hướng tăng mạnh vào năm 2022 và giảm dần về sau nhưng vẫn duy trì khá ổn định"
   ]
  },
  {
   "cell_type": "code",
   "execution_count": null,
   "metadata": {},
   "outputs": [],
   "source": [
    "video_duration_contrb_by_year = pd.DataFrame()\n",
    "video_duration_contrb_by_year['Month'] = pd.to_datetime(read_df['createTimeISO']).dt.strftime('%Y-%M')\n",
    "video_duration_contrb_by_year['Year'] = read_df['year']\n",
    "video_duration_contrb_by_year['Date'] = read_df['date']\n",
    "video_duration_contrb_by_year['Video Duration'] = read_df['videoMeta/duration']"
   ]
  },
  {
   "cell_type": "code",
   "execution_count": null,
   "metadata": {},
   "outputs": [],
   "source": [
    "video_duration_contrb_by_year"
   ]
  },
  {
   "cell_type": "code",
   "execution_count": null,
   "metadata": {},
   "outputs": [],
   "source": [
    "plt.figure(figsize=(16, 6))\n",
    "sns.boxplot(x='Year', y='Video Duration', data=video_duration_contrb_by_year, color='skyblue')\n",
    "\n",
    "plt.title('Video Duration Distribution by Year', fontsize=14)\n",
    "plt.xlabel('Year', fontsize=12)\n",
    "plt.ylabel('Video Duration', fontsize=12)\n"
   ]
  },
  {
   "cell_type": "markdown",
   "metadata": {},
   "source": [
    "Dựa vào biểu đồ, ta thấy rằng xu hướng thời lượng video trung bình tăng cao trong 2022 và 2023, sau đó giảm đáng kể trong 2024.\n",
    "Phân tán dữ liệu (IQR) lớn nhất trong 2022 và 2023, cho thấy sự đa dạng về thời lượng video trong giai đoạn này.\n",
    "2024 có thời lượng video giảm mạnh, với dữ liệu ít phân tán hơn.\n",
    "Ngoại lệ (Outliers):\n",
    "\n",
    "Số lượng outliers lớn nhất trong 2022 và 2023, có thể do một số video có thời lượng bất thường.\n",
    "2021 và 2024 có ít outliers hơn, với giá trị thời lượng thấp hơn.\n",
    "\n"
   ]
  },
  {
   "cell_type": "markdown",
   "metadata": {},
   "source": [
    "### 1.4 Phân bố độ dài caption của video"
   ]
  },
  {
   "cell_type": "code",
   "execution_count": null,
   "metadata": {},
   "outputs": [],
   "source": [
    "read_df['text_length'].dropna().head(200)"
   ]
  },
  {
   "cell_type": "code",
   "execution_count": null,
   "metadata": {},
   "outputs": [],
   "source": [
    "fig, text_length = plt.subplots(figsize=(14, 6))\n",
    "text_length.hist(read_df['text_length'], bins=np.arange(0, 25, 1), color='blue', rwidth=0.9,align='left')\n",
    "text_length.set_xlim(0,26)\n",
    "text_length.set_ylim(0,500)\n",
    "text_length.set_xticks(range(1,26,1))\n",
    "text_length.set_xlabel('Số từ')\n",
    "text_length.set_ylabel('Số lượng video')\n",
    "text_length.set_title('Biểu đồ phân bố chiều dài caption')\n",
    "\n",
    "for patch in text_length.patches:\n",
    "    height = patch.get_height()\n",
    "    if height > 0:\n",
    "        text_length.text(patch.get_x() + patch.get_width() / 2,\n",
    "                  height,\n",
    "                  int(height),\n",
    "                  ha='center', va='bottom', fontsize=12, color='black')\n",
    "mean_value = read_df['text_length'].mean()\n",
    "median_value = read_df['text_length'].median()\n",
    "print('Giá trị trung bình là: ' + str(mean_value))\n",
    "print('Trung vị là: '+ str(median_value))\n",
    "text_length.axvline(mean_value, color='red', linestyle='--', linewidth=2, label=f'Trung bình: {mean_value:.2f}')\n",
    "text_length.axvline(median_value, color='green', linestyle='--', linewidth=2, label=f'Trung vị: {median_value:.2f}')\n",
    "text_length.legend()\n",
    "plt.show()\n"
   ]
  },
  {
   "cell_type": "code",
   "execution_count": null,
   "metadata": {},
   "outputs": [],
   "source": [
    "text_lengths = read_df['text_length']\n",
    "df_result = text_lengths.value_counts().reset_index()\n",
    "df_result.columns = ['Số từ', 'Số lượng video']\n",
    "df_result = df_result.sort_values(by='Số từ').reset_index(drop=True)\n",
    "\n",
    "print(df_result)"
   ]
  },
  {
   "cell_type": "markdown",
   "metadata": {},
   "source": [
    "Chiều dài caption của các video hầu hết nằm trong khoảng 2 đến 4 kí tự với giá trị trung bình của độ dài là 6.53, giá trị trung vị là 3.00. Đây là giá trị phù hợp vì hầu hết các video tiktok cung cấp lượng lớn thông tin qua nội dung video, caption mang hàm lượng thông tin thấp, chủ yếu là chú thích và tóm tắt thêm cho nội dung video. Đây là xu hướng hiện tại của giới trẻ khi sẽ ưu tiên việc nghe nhiều hơn đọc."
   ]
  },
  {
   "cell_type": "markdown",
   "metadata": {},
   "source": [
    "## 2. Phân tích tương tác"
   ]
  },
  {
   "cell_type": "markdown",
   "metadata": {},
   "source": [
    "### 2.1 Tổng quan về tương tác của tài khoản"
   ]
  },
  {
   "cell_type": "code",
   "execution_count": null,
   "metadata": {},
   "outputs": [],
   "source": [
    "print('Trung bình lượt thích là: ' + str(read_df['diggCount'].mean()))\n",
    "print('Trung bình lượt bình luận là: ' + str(read_df['commentCount'].mean()))\n",
    "print('Trung bình lượt lưu lại là: ' + str(read_df['collectCount'].mean()))\n",
    "print('Trung bình lượt chia sẻ là: ' + str(read_df['shareCount'].mean()))\n",
    "print('Trung bình lượt phát là: ' + str(read_df['playCount'].mean()))\n"
   ]
  },
  {
   "cell_type": "code",
   "execution_count": null,
   "metadata": {},
   "outputs": [],
   "source": [
    "reaction_count = read_df[['collectCount', 'commentCount', 'diggCount', 'shareCount']].copy()\n",
    "reactions = ['collectCount', 'commentCount', 'diggCount', 'shareCount']\n",
    "read_df['ReactionCount'] = read_df['collectCount'] + read_df['commentCount'] + read_df['diggCount'] + read_df['shareCount']\n",
    "\n",
    "reaction_sum = [read_df['collectCount'].sum(), read_df['commentCount'].sum(), read_df['diggCount'].sum(), read_df['shareCount'].sum() ]\n",
    "\n",
    "mycolor = ['#f1c40f', '#e74c3c', '#2ecc71', '#3498db']  \n",
    "plt.figure(figsize=(18, 6))\n",
    "explode = (0, 0, 0.1, 0)  \n",
    "plt.pie(reaction_sum, \n",
    "        colors=mycolor, \n",
    "        startangle=90, \n",
    "        explode=explode) \n",
    "plt.title('Tỷ lệ tương quan giữa các trường tương tác', fontsize=16, fontweight='bold')\n",
    "plt.legend(reactions, \n",
    "           title=\"Phản ứng\", \n",
    "           loc=\"center left\", \n",
    "           bbox_to_anchor=(1, 0.5),  \n",
    "           fontsize=12)\n",
    "\n"
   ]
  },
  {
   "cell_type": "code",
   "execution_count": null,
   "metadata": {},
   "outputs": [],
   "source": [
    "reaction_count_2024 = read_df[read_df['year'] == 2024][['collectCount', 'commentCount', 'diggCount', 'shareCount']]\n",
    "reaction_count_2024.plot(kind='bar', stacked=True, figsize=(30, 10), color=['#f1c40f', '#e74c3c', '#2ecc71', '#3498db'])\n",
    "\n",
    "plt.title('Tương tác trong năm 2024', fontsize=24, fontweight='bold')\n",
    "plt.xlabel('', fontsize=20)\n",
    "plt.ylabel('Số lượng', fontsize=20)\n",
    "\n",
    "plt.show()\n"
   ]
  },
  {
   "cell_type": "markdown",
   "metadata": {},
   "source": [
    "Lượt tương tác trong năm nhảy vọt vào khoảng quý 2 sau đó giảm mạnh, duy trì , vọt lên vào cuối quý 3, đầu quý 4 trong năm, cho thấy xu hướng tương tác nhìn chung không có nhiều biến động nhưng giảm dần về cuối năm"
   ]
  },
  {
   "cell_type": "markdown",
   "metadata": {},
   "source": [
    "### 2.2 Phân tích tỉ lệ tương tác, lấy ra top 10 bài có tỉ lệ tương tác cao nhất"
   ]
  },
  {
   "cell_type": "code",
   "execution_count": null,
   "metadata": {},
   "outputs": [],
   "source": [
    "rate_reaction = read_df.copy()\n",
    "rate_reaction['ER'] = ((rate_reaction['diggCount'] + rate_reaction['commentCount'] + rate_reaction['shareCount']) / rate_reaction['playCount']) * 100\n",
    "\n",
    "top_10_er = rate_reaction.nlargest(10, 'ER')\n"
   ]
  },
  {
   "cell_type": "code",
   "execution_count": null,
   "metadata": {},
   "outputs": [],
   "source": [
    "top_10_er['ind'] = np.arange(1, 11)\n",
    "print(top_10_er[['diggCount', 'commentCount', 'shareCount', 'playCount', 'ER']])\n"
   ]
  },
  {
   "cell_type": "markdown",
   "metadata": {},
   "source": [
    "Các bài trong top 10 đều có tỉ lệ tương tác cao. Chứng tỏ được những bài đăng này đều thu hút người xem và sự phổ biến của nick tiktok này."
   ]
  },
  {
   "cell_type": "code",
   "execution_count": null,
   "metadata": {},
   "outputs": [],
   "source": [
    "plt.figure(figsize=(12, 6))\n",
    "sns.barplot(data=top_10_er, x='ind', y='ER', hue='ind', palette='coolwarm')\n",
    "plt.title('Biểu đồ thể hiện tỉ lệ tương tác của top 10', fontsize=18, fontweight='bold', color='#333')\n",
    "plt.xlabel('Nhóm', fontsize=14, color='#555')\n",
    "plt.ylabel('Tỷ lệ ER (%)', fontsize=14, color='#555')\n",
    "plt.xticks(rotation=45, fontsize=12)\n",
    "plt.grid(axis='y', linestyle='--', alpha=0.7)\n",
    "plt.legend(title='Nhóm', loc='upper left', bbox_to_anchor=(1, 1), fontsize=12, title_fontsize=14, frameon=True)\n",
    "plt.tight_layout()\n",
    "plt.show()\n",
    "\n"
   ]
  },
  {
   "cell_type": "markdown",
   "metadata": {},
   "source": [
    "### 2.3 So sánh tỉ lệ tương tác của các ngày trong tuần"
   ]
  },
  {
   "cell_type": "code",
   "execution_count": null,
   "metadata": {},
   "outputs": [],
   "source": [
    "reaction_by_week = read_df[['collectCount', 'commentCount', 'diggCount', 'shareCount', 'playCount', 'createTimeISO', 'hour']].copy()\n",
    "reaction_by_week['rate of reaction'] = (reaction_by_week['diggCount'] + reaction_by_week['shareCount'] + reaction_by_week['commentCount'])/(reaction_by_week['playCount'])*100\n",
    "reaction_by_week['day of week'] = reaction_by_week['createTimeISO'].dt.day_of_week"
   ]
  },
  {
   "cell_type": "code",
   "execution_count": null,
   "metadata": {},
   "outputs": [],
   "source": [
    "print('Độ lệch chuẩn là: ' + str(reaction_by_week['rate of reaction'].std()))\n",
    "print('Phương sai: ' + str(reaction_by_week['rate of reaction'].var()))\n"
   ]
  },
  {
   "cell_type": "code",
   "execution_count": null,
   "metadata": {},
   "outputs": [],
   "source": [
    "reaction_by_week_grouped = reaction_by_week.groupby('day of week')[['diggCount', 'shareCount', 'commentCount']].sum()\n",
    "plt.figure(figsize=(15, 6))\n",
    "reaction_by_week_grouped.plot(kind='bar', stacked=True, color=['#3498db', '#2ecc71', '#f39c12'])\n",
    "plt.title('Tổng lượt tương tác theo ngày trong tuần', fontsize=16, fontweight='bold')\n",
    "plt.xlabel('Ngày trong tuần', fontsize=12)\n",
    "plt.ylabel('Tổng tương tác', fontsize=12)\n",
    "plt.xticks(ticks=range(7), labels=['Mon', 'Tue', 'Wed', 'Thu', 'Fri', 'Sat', 'Sun'], rotation=0)\n",
    "plt.show()\n"
   ]
  },
  {
   "cell_type": "code",
   "execution_count": null,
   "metadata": {},
   "outputs": [],
   "source": [
    "heatmap_data = reaction_by_week.groupby(['day of week', 'hour'])['rate of reaction'].mean().unstack()\n",
    "new_labels = [\"Thứ Hai\", \"Thứ Ba\", \"Thứ Tư\", \"Thứ Năm\", \"Thứ Sáu\", \"Thứ Bảy\", \"Chủ Nhật\"]\n",
    "heatmap_data.index = new_labels\n",
    "plt.figure(figsize=(18, 6))\n",
    "sns.heatmap(\n",
    "    heatmap_data, \n",
    "    annot=True, \n",
    "    fmt=\".2f\", \n",
    "    cmap=\"Oranges\" ,\n",
    "    cbar_kws={'label': 'Tỷ lệ tương tác trung bình'}\n",
    ")\n",
    "plt.title(\"Tỷ lệ tương tác trung bình theo giờ và ngày trong tuần\", fontsize=16, fontweight='bold')\n",
    "plt.xlabel(\"Giờ đăng bài\", fontsize=12)\n",
    "plt.ylabel(\"Ngày trong tuần\", fontsize=12)\n",
    "plt.xticks(rotation=45)\n",
    "plt.show()"
   ]
  },
  {
   "cell_type": "markdown",
   "metadata": {},
   "source": []
  },
  {
   "cell_type": "markdown",
   "metadata": {},
   "source": [
    "Tỉ lệ tương tác trong tuần rất ổn định, xấp xỉ 7%. Trong đó cao nhất là vào Chủ nhật, với lượt tương tác xấp xỉ 7,1%\n",
    "Qua đó dễ dàng nhận định lượng tương tác vào cuối tuần hoặc đầu tuần thường có xu hướng cao hơn các ngày trong tuần\n"
   ]
  },
  {
   "cell_type": "markdown",
   "metadata": {},
   "source": [
    "### 2.4 Phân tích tương tác của tài khoản qua comment"
   ]
  },
  {
   "cell_type": "code",
   "execution_count": null,
   "metadata": {},
   "outputs": [],
   "source": [
    "comment_data = read_df.copy()\n",
    "print('Tổng số lượt comment là: ' + str(comment_data['commentCount'].sum()))\n",
    "print('Trung bình lượt commnet là: ' + str(comment_data['commentCount'].mean()))\n",
    "print('Trung vị số comment là: ' + str(comment_data['commentCount'].median()))\n"
   ]
  },
  {
   "cell_type": "code",
   "execution_count": null,
   "metadata": {},
   "outputs": [],
   "source": [
    "#Video có lượt comment cao nhất:\n",
    "cmt_max_comment = comment_data['commentCount'].max()\n",
    "print_max = comment_data[comment_data['commentCount'] == cmt_max_comment]\n",
    "print_max\n"
   ]
  },
  {
   "cell_type": "code",
   "execution_count": null,
   "metadata": {},
   "outputs": [],
   "source": [
    "#Video có lượt comment thấp nhất:\n",
    "cmt_min_comment = comment_data['commentCount'].min()\n",
    "print_min = comment_data[comment_data['commentCount'] == cmt_min_comment]\n",
    "print_min\n"
   ]
  },
  {
   "cell_type": "code",
   "execution_count": null,
   "metadata": {},
   "outputs": [],
   "source": [
    "#Top 10 video có lượt commnet nhiều nhất\n",
    "top_10_comments = comment_data.nlargest(10, 'commentCount')\n",
    "top_10_comments"
   ]
  },
  {
   "cell_type": "code",
   "execution_count": null,
   "metadata": {},
   "outputs": [],
   "source": [
    "video_comment_by_week = pd.DataFrame()\n",
    "video_comment_by_week['Week'] = pd.to_datetime(read_df['createTimeISO']).dt.strftime('%Y-%W')\n",
    "video_comment_by_week = video_comment_by_week.sort_values('Week')\n",
    "video_comment_by_week = video_comment_by_week.groupby('Week').size().reset_index(name='commentCount')\n",
    "\n",
    "video_comment_by_month = pd.DataFrame()\n",
    "video_comment_by_month['Month'] = pd.to_datetime(read_df['createTimeISO']).dt.strftime('%Y-%m')\n",
    "video_comment_by_month= video_comment_by_month.sort_values('Month')\n",
    "video_comment_by_month= video_comment_by_month.groupby('Month').size().reset_index(name='commentCount')\n",
    "\n",
    "video_comment_by_year = pd.DataFrame()\n",
    "video_comment_by_year['Year'] = pd.to_datetime(read_df['createTimeISO']).dt.strftime('%Y')\n",
    "video_comment_by_year= video_comment_by_year.sort_values('Year')\n",
    "video_comment_by_year= video_comment_by_year.groupby('Year').size().reset_index(name='commentCount')"
   ]
  },
  {
   "cell_type": "code",
   "execution_count": null,
   "metadata": {},
   "outputs": [],
   "source": [
    "fig, axes = plt.subplots(3,1,figsize = (20,20))\n",
    "sns.barplot(data= video_comment_by_week, x = 'Week', y='commentCount', ax=axes[0], hue = 'Week')\n",
    "axes[0].set_xlabel('Week', fontsize = 14)\n",
    "axes[0].set_ylabel('Comment Count', fontsize = 14)\n",
    "axes[0].set_title('Video comment count by Week', fontsize =18)\n",
    "\n",
    "sns.barplot(data= video_comment_by_month, x = 'Month', y='commentCount', ax=axes[1], hue = 'Month')\n",
    "axes[1].set_xlabel('Month', fontsize = 14)\n",
    "axes[1].set_ylabel('Comment Count', fontsize = 14)\n",
    "axes[1].set_title('Video comment count by Month', fontsize =18)\n",
    "\n",
    "sns.barplot(data= video_comment_by_year, x = 'Year', y='commentCount', ax=axes[2], hue = 'Year')\n",
    "axes[2].set_xlabel('Year', fontsize = 14)\n",
    "axes[2].set_ylabel('Comment Count', fontsize = 14)\n",
    "axes[2].set_title('Video comment count by Year', fontsize =18)"
   ]
  },
  {
   "cell_type": "markdown",
   "metadata": {},
   "source": [
    "### 2.5 Phân tích tương tác của tài khoản qua lượt Share"
   ]
  },
  {
   "cell_type": "code",
   "execution_count": null,
   "metadata": {},
   "outputs": [],
   "source": [
    "share_data = read_df.copy()\n",
    "print('Tổng số lượt share là: ' + str(share_data['shareCount'].sum()))\n",
    "print('Trung bình lượt share là: ' + str(share_data['shareCount'].mean()))\n",
    "print('Trung vị số share là: ' + str(share_data['shareCount'].median()))\n"
   ]
  },
  {
   "cell_type": "code",
   "execution_count": null,
   "metadata": {},
   "outputs": [],
   "source": [
    "#Video có lượt share cao nhất:\n",
    "share_max_comment = share_data['shareCount'].max()\n",
    "print_max = share_data[share_data['shareCount'] == share_max_comment]\n",
    "print_max"
   ]
  },
  {
   "cell_type": "code",
   "execution_count": null,
   "metadata": {},
   "outputs": [],
   "source": [
    "fig, ax = plt.subplots(figsize=(14, 6))\n",
    "ax.plot(read_df['date'], read_df['shareCount'], color='blue')\n",
    "ax.set_xlabel('Ngày')\n",
    "ax.set_ylabel('Lượt share')\n",
    "ax.set_xlim(pd.to_datetime('2022-01-01'), pd.to_datetime('2024-11-01'))"
   ]
  },
  {
   "cell_type": "markdown",
   "metadata": {},
   "source": [
    "Biểu đồ cho thấy sự biến động rất lớn, với những đỉnh cao và sụt giảm đột ngột trong số lượng chia sẻ theo thời gian được hiển thị. Có một số đỉnh cao, nơi số lượng chia sẻ vượt quá 20.000, sau đó lại giảm đáng kể."
   ]
  },
  {
   "cell_type": "code",
   "execution_count": null,
   "metadata": {},
   "outputs": [],
   "source": [
    "day_order = ['Monday', 'Tuesday', 'Wednesday', 'Thursday', 'Friday', 'Saturday', 'Sunday']\n",
    "read_df['day_of_week'] = pd.Categorical(read_df['day_of_week'], categories=day_order, ordered=True)\n",
    "heatmap_data = read_df.groupby(['day_of_week', 'hour'])['shareCount'].sum().unstack()\n",
    "\n",
    "plt.figure(figsize=(14, 6))\n",
    "sns.heatmap(heatmap_data, cmap='YlGnBu', fmt='g', linewidths=0.5)\n",
    "\n",
    "plt.title('Biểu đồ nhiệt: Lượt share theo giờ trong ngày và ngày trong tuần')\n",
    "plt.xlabel('Giờ trong ngày')\n",
    "plt.ylabel('Ngày trong tuần')\n",
    "\n",
    "plt.show()"
   ]
  },
  {
   "cell_type": "markdown",
   "metadata": {},
   "source": [
    "Từ biểu đồ nhiệt trên, ta có thể dễ dàng nhận thấy lượng tương tác share tập chung chủ yếu vào các khung giờ 10-12h, 17-19 giờ, và nhiều nhất vào thứ hai."
   ]
  },
  {
   "cell_type": "markdown",
   "metadata": {},
   "source": [
    "### 2.6 Phân tích tương tác của tài khoản qua lượt Yêu thích (Collect)"
   ]
  },
  {
   "cell_type": "code",
   "execution_count": null,
   "metadata": {},
   "outputs": [],
   "source": [
    "sum_posts = read_df['collectCount'].sum()\n",
    "mean_posts = read_df['collectCount'].mean()  \n",
    "std_posts = read_df['collectCount'].std()    \n",
    "median_posts = read_df['collectCount'].median()  \n",
    "\n",
    "print(f\"Tổng lượt yêu thích: {sum_posts:.2f}\")\n",
    "print(f\"Trung bình lượt yêu thích: {mean_posts:.2f}\")\n",
    "print(f\"Độ lệch chuẩn của lượt yêu thích: {std_posts:.2f}\")\n",
    "print(f\"Trung vị của lượt yêu thích: {median_posts:.2f}\")\n"
   ]
  },
  {
   "cell_type": "code",
   "execution_count": null,
   "metadata": {},
   "outputs": [],
   "source": [
    "Collect_data = read_df.copy()\n",
    "collect_max = Collect_data['collectCount'].max()  # Tìm giá trị lớn nhất của lượt yêu thích\n",
    "print_max = Collect_data[Collect_data['collectCount'] == collect_max]  # Lọc dữ liệu với giá trị lớn nhất\n",
    "print_max\n"
   ]
  },
  {
   "cell_type": "code",
   "execution_count": null,
   "metadata": {},
   "outputs": [],
   "source": [
    "# Video có lượt collect thấp nhất:\n",
    "collect_min_count = Collect_data['collectCount'].min()\n",
    "print_min = Collect_data[Collect_data['collectCount'] == collect_min_count]\n",
    "print_min"
   ]
  },
  {
   "cell_type": "code",
   "execution_count": null,
   "metadata": {},
   "outputs": [],
   "source": [
    "top_10 = Collect_data.nlargest(10, 'collectCount')\n",
    "top_10"
   ]
  },
  {
   "cell_type": "code",
   "execution_count": null,
   "metadata": {},
   "outputs": [],
   "source": [
    "# Theo tuần\n",
    "video_collect_by_week = pd.DataFrame()\n",
    "video_collect_by_week['Week'] = pd.to_datetime(read_df['createTimeISO']).dt.strftime('%Y-%W')\n",
    "video_collect_by_week = video_collect_by_week.sort_values('Week')\n",
    "video_collect_by_week = video_collect_by_week.groupby('Week').size().reset_index(name='collectCount')\n",
    "video_collect_by_week\n",
    "\n",
    "# Theo tháng\n",
    "video_collect_by_month = pd.DataFrame()\n",
    "video_collect_by_month['Month'] = pd.to_datetime(read_df['createTimeISO']).dt.strftime('%Y-%m')\n",
    "video_collect_by_month = video_collect_by_month.sort_values('Month')\n",
    "video_collect_by_month = video_collect_by_month.groupby('Month').size().reset_index(name='collectCount')\n",
    "\n",
    "# Theo năm\n",
    "video_collect_by_year = pd.DataFrame()\n",
    "video_collect_by_year['Year'] = pd.to_datetime(read_df['createTimeISO']).dt.strftime('%Y')\n",
    "video_collect_by_year = video_collect_by_year.sort_values('Year')\n",
    "video_collect_by_year = video_collect_by_year.groupby('Year').size().reset_index(name='collectCount')\n",
    "video_collect_by_year\n"
   ]
  },
  {
   "cell_type": "code",
   "execution_count": null,
   "metadata": {},
   "outputs": [],
   "source": [
    "from matplotlib.ticker import FuncFormatter\n",
    "def format_number_short(x, _):\n",
    "    if x >= 1_000_000:\n",
    "        return f\"{x / 1_000_000:.1f}M\"\n",
    "    elif x >= 1_000:\n",
    "        return f\"{x / 1_000:.1f}K\"\n",
    "    else:\n",
    "        return str(int(x))\n",
    "\n",
    "fig, axes = plt.subplots(3, 1, figsize=(20, 20))\n",
    "\n",
    "# Theo tuần\n",
    "sns.barplot(data=video_collect_by_week, x='Week', y='collectCount', ax=axes[0], hue='Week')\n",
    "axes[0].set_xlabel('Week', fontsize=14)\n",
    "axes[0].set_ylabel('Collect Count', fontsize=14)\n",
    "axes[0].set_title('Video collect count by Week', fontsize=18)\n",
    "axes[0].yaxis.set_major_formatter(FuncFormatter(format_number_short))\n",
    "\n",
    "# Theo tháng\n",
    "sns.barplot(data=video_collect_by_month, x='Month', y='collectCount', ax=axes[1], hue='Month')\n",
    "axes[1].set_xlabel('Month', fontsize=14)\n",
    "axes[1].set_ylabel('Collect Count', fontsize=14)\n",
    "axes[1].set_title('Video collect count by Month', fontsize=18)\n",
    "axes[1].yaxis.set_major_formatter(FuncFormatter(format_number_short))\n",
    "\n",
    "# Theo năm\n",
    "sns.barplot(data=video_collect_by_year, x='Year', y='collectCount', ax=axes[2], hue='Year')\n",
    "axes[2].set_xlabel('Year', fontsize=14)\n",
    "axes[2].set_ylabel('Collect Count', fontsize=14)\n",
    "axes[2].set_title('Video collect count by Year', fontsize=18)\n",
    "axes[2].yaxis.set_major_formatter(FuncFormatter(format_number_short))\n",
    "\n",
    "plt.tight_layout()\n",
    "plt.show()\n"
   ]
  },
  {
   "cell_type": "code",
   "execution_count": null,
   "metadata": {},
   "outputs": [],
   "source": [
    "fig, ax = plt.subplots(figsize=(14, 6))\n",
    "ax.plot(read_df['date'], read_df['collectCount'], color='blue')\n",
    "ax.set_xlabel('Thời gian')\n",
    "ax.set_ylabel('Lượt yêu thích')\n",
    "\n",
    "# Thiết lập xlim từ ngày sớm nhất trong dữ liệu đến hiện tại\n",
    "ax.set_xlim(pd.to_datetime(read_df['date'].min()), pd.Timestamp.now())\n",
    "plt.show()\n"
   ]
  },
  {
   "cell_type": "markdown",
   "metadata": {},
   "source": [
    "Biểu đồ này thể hiện lượt yêu thích được ghi nhận trên Tiktok theo trục thời gian từ cuối năm 2021 đến năm 2024."
   ]
  },
  {
   "cell_type": "raw",
   "metadata": {},
   "source": [
    "- Dựa vào biểu đồ trên ta thấy, lượt yêu thích đạt đỉnh cao đặc biệt trong khoảng giữa năm 2022 và năm 2024. Đối chiếu với tần suất đăng video thì năm 2024 (131 bài) đăng ít hơn năm 2022 (364 bài) là 233 bài viết. Chứng tỏ rằng chất lượng video năm 2024 chỉnh chu hơn, thu hút người xem và truyền cảm hứng hơn\n",
    "- Nhận xét: Tài khoản có sự tăng trưởng rõ rệt vào giữa năm 2022 và bùng nổ vào giữa năm 2024."
   ]
  },
  {
   "cell_type": "code",
   "execution_count": null,
   "metadata": {},
   "outputs": [],
   "source": [
    "day_order = ['Monday', 'Tuesday', 'Wednesday', 'Thursday', 'Friday', 'Saturday', 'Sunday']\n",
    "read_df['day_of_week'] = pd.Categorical(read_df['day_of_week'], categories=day_order, ordered=True)\n",
    "\n",
    "start_date = pd.to_datetime(read_df['date'].min())\n",
    "end_date = pd.Timestamp.now()\n",
    "filtered_df = read_df[(read_df['date'] >= start_date) & (read_df['date'] <= end_date)]\n",
    "\n",
    "heatmap_data = filtered_df.groupby(['day_of_week', 'hour'])['collectCount'].sum().unstack()\n",
    "\n",
    "plt.figure(figsize=(14, 6))\n",
    "sns.heatmap(heatmap_data, cmap='YlGnBu', fmt='g', linewidths=0.5)\n",
    "plt.title('Biểu đồ nhiệt: Lượt yêu thích theo giờ trong ngày và ngày trong tuần')\n",
    "plt.xlabel('Giờ trong ngày')\n",
    "plt.ylabel('Ngày trong tuần')\n",
    "\n",
    "plt.show()\n"
   ]
  },
  {
   "cell_type": "markdown",
   "metadata": {},
   "source": [
    "Biểu đồ này thể hiện sự phân bố lượt yêu thích theo giờ trong ngày (trục ngang) và ngày trong tuần (trục dọc)."
   ]
  },
  {
   "cell_type": "markdown",
   "metadata": {},
   "source": [
    "**Dựa vào biểu đồ ta thấy:**\n",
    "- Theo các ngày trong tuần:\n",
    "    + Lượt yêu thích tập trung vào thứ Năm và Chủ Nhật\n",
    "- Theo giờ trong ngày:\n",
    "    + Ta dễ dàng nhận thấy, lượt yêu thích thường tập trung từ 11 giờ đến 18 giờ. Lượt yêu thích cao nhất tại 2 khung giờ trong ngày là 11 giờ và 18 giờ -> Đây thường là thời gian mọi người nghỉ hơn, rảnh rỗi -> tỉ lệ online cao hơn.\n",
    "    + Lượt yêu thích thường thấp vào buổi sáng sớm (0h - 6h) và đêm khuya, phản ánh thói quen sử dụng nền tảng của khán giả."
   ]
  },
  {
   "cell_type": "markdown",
   "metadata": {},
   "source": [
    "### 2.7 Phân tích tương tác của tài khoản qua lượt xem (Play)"
   ]
  },
  {
   "cell_type": "code",
   "execution_count": null,
   "metadata": {},
   "outputs": [],
   "source": [
    "sum_posts = read_df['playCount'].sum()\n",
    "mean_posts = read_df['playCount'].mean() \n",
    "std_posts = read_df['playCount'].std()    \n",
    "median_posts = read_df['playCount'].median() \n",
    "\n",
    "print(f\"Tổng lượt xem: {sum_posts:.2f}\")\n",
    "print(f\"Trung bình lượt xem: {mean_posts:.2f}\")\n",
    "print(f\"Độ lệch chuẩn của lượt xem: {std_posts:.2f}\")\n",
    "print(f\"Trung vị của lượt xem: {median_posts:.2f}\")"
   ]
  },
  {
   "cell_type": "code",
   "execution_count": null,
   "metadata": {},
   "outputs": [],
   "source": [
    "Play_data = read_df.copy()\n",
    "play_max = Play_data['playCount'].max() \n",
    "print_max = Play_data[Play_data['playCount'] == play_max]  \n",
    "print_max  "
   ]
  },
  {
   "cell_type": "code",
   "execution_count": null,
   "metadata": {},
   "outputs": [],
   "source": [
    "# Video có lượt xem thấp nhất:\n",
    "play_min_count = Play_data['playCount'].min()  \n",
    "print_min = Play_data[Play_data['playCount'] == play_min_count]  \n",
    "print_min "
   ]
  },
  {
   "cell_type": "code",
   "execution_count": null,
   "metadata": {},
   "outputs": [],
   "source": [
    "# Top 10 video có lượt xem nhiều nhất\n",
    "top_10 = Play_data.nlargest(10, 'playCount')\n",
    "top_10"
   ]
  },
  {
   "cell_type": "code",
   "execution_count": null,
   "metadata": {},
   "outputs": [],
   "source": [
    "day_order = ['Monday', 'Tuesday', 'Wednesday', 'Thursday', 'Friday', 'Saturday', 'Sunday']\n",
    "read_df['day_of_week'] = pd.Categorical(read_df['day_of_week'], categories=day_order, ordered=True)\n",
    "\n",
    "start_date = pd.to_datetime(read_df['date'].min())\n",
    "end_date = pd.Timestamp.now()\n",
    "filtered_df = read_df[(read_df['date'] >= start_date) & (read_df['date'] <= end_date)]\n",
    "heatmap_data = filtered_df.groupby(['day_of_week', 'hour'])['playCount'].sum().unstack()\n",
    "\n",
    "plt.figure(figsize=(14, 6))\n",
    "sns.heatmap(heatmap_data, cmap='YlGnBu', fmt='g', linewidths=0.5)\n",
    "plt.title('Biểu đồ nhiệt: Lượt xem theo giờ trong ngày và ngày trong tuần')\n",
    "plt.xlabel('Giờ trong ngày')\n",
    "plt.ylabel('Ngày trong tuần')\n",
    "plt.show()\n"
   ]
  },
  {
   "cell_type": "markdown",
   "metadata": {},
   "source": [
    "**Biểu đồ này thể hiện sự phân bố lượt xem theo giờ trong ngày (trục ngang) và ngày trong tuần (trục dọc).**\n",
    "- Theo các ngày trong tuần:\n",
    "    + Lượt yêu thích tập trung cao vào đầu tuần đến giữa tuần (Từ Thứ Hai đến Thứ Sáu). -> Nội dung trong tuần được tác giả tập trung cao tiếp cận được nhiều người xem. \n",
    "- Theo giờ trong ngày:\n",
    "    + Trong ngày thì lượt xem phân bố đều hơn. Lượt yêu thích cao nhất tại 2 khung giờ trong ngày là 10 giờ đến 12 giờ sáng và 17 giờ đến 19 giờ tối -> Đây là thời gian mọi người nghỉ hơn, giải trí sau những giờ làm việc căng thẳng -> tỉ lệ online cao hơn.\n",
    "    + Lượt xem thường thấp vào buổi sáng sớm (0h - 6h) và sau 21 giờ tối, phản ánh thói quen sử dụng nền tảng của khán giả."
   ]
  },
  {
   "cell_type": "code",
   "execution_count": null,
   "metadata": {},
   "outputs": [],
   "source": [
    "fig, ax = plt.subplots(figsize=(14, 6))\n",
    "ax.plot(read_df['date'], read_df['playCount'], color='blue')\n",
    "ax.set_xlabel('Thời gian')\n",
    "ax.set_ylabel('Lượt xem')\n",
    "ax.set_xlim(pd.to_datetime(read_df['date'].min()), pd.Timestamp.now())\n",
    "\n",
    "plt.show()\n"
   ]
  },
  {
   "cell_type": "markdown",
   "metadata": {},
   "source": [
    "- Ta có, tần suất đăng video theo từng năm là: Năm 2021 có 155 bài đăng, năm 2022 có 364 bài đăng, năm 2023 có 213 bài đăng, năm 2024 có 131 bài đăng, tần suất đăng bài ổn định -> lượt xem cũng khá ổn định\n"
   ]
  },
  {
   "cell_type": "markdown",
   "metadata": {},
   "source": [
    "## 3. Phân tích sự tương quan giữa các yếu tố"
   ]
  },
  {
   "cell_type": "markdown",
   "metadata": {},
   "source": [
    "### 3.1 Tương quan giữa commentCount, shareCount, diggCount, playCount và collectCount"
   ]
  },
  {
   "cell_type": "code",
   "execution_count": null,
   "metadata": {},
   "outputs": [],
   "source": [
    "corr_row = read_df[['commentCount', 'shareCount', 'diggCount', 'playCount', 'collectCount']]\n",
    "correlation_matrix = corr_row.corr()\n",
    "\n",
    "# Tạo danh sách tên hiển thị\n",
    "display_names = ['Lượt bình luận', 'Lượt share', 'Lượt thích', 'Lượt xem', 'Lượt lưu']\n",
    "\n",
    "plt.figure(figsize=(8, 6))\n",
    "sns.heatmap(\n",
    "    correlation_matrix,\n",
    "    annot=True,\n",
    "    cmap='plasma',\n",
    "    fmt=\".2f\",\n",
    "    linewidths=0.5,\n",
    "    xticklabels=display_names,\n",
    "    yticklabels=display_names\n",
    ")\n",
    "plt.xticks(rotation=45)\n",
    "plt.title('Biểu đồ tương quan giữa các biến')\n",
    "plt.tight_layout()  \n",
    "plt.show()"
   ]
  },
  {
   "cell_type": "markdown",
   "metadata": {},
   "source": [
    "Từ biểu đồ tương quan trên, ta dễ dàng nhận thấy các yếu tố về tương tác có sự liên hệ mật thiết với nhau:\n",
    "- Lượt xem và lượt thích có độ tương quan cao nhất với: 0.93\n",
    "- Lượt xem và lượt lưu: 0.78\n",
    "- Lượt comment và lượt thích: 0.76\n",
    "- Lượt lưu và lượt thích: 0.75\n",
    "- Lượt xem và lượt lưu: 0.70\n",
    "- Lượt thích và lượt chia sẻ: 0.69\n",
    "- Lượt comment và lượt chia sẻ: 0.66\n",
    "- lượt share và lượt lưu: 0.63\n",
    "- Lượt bình luận và lượt lưu: 0.50"
   ]
  },
  {
   "cell_type": "markdown",
   "metadata": {},
   "source": [
    "### 3.2 Phân tích mối tương quan giữa giờ đăng và tương tác"
   ]
  },
  {
   "cell_type": "code",
   "execution_count": null,
   "metadata": {},
   "outputs": [],
   "source": [
    "rate_of_reaction_by_hour = rate_reaction.groupby('hour')['ER'].mean().reset_index()\n",
    "full_hours = pd.DataFrame({'hour': range(24)}) \n",
    "rate_of_reaction_by_hour = full_hours.merge(rate_of_reaction_by_hour, on='hour', how='left')\n",
    "rate_of_reaction_by_hour['ER'] = rate_of_reaction_by_hour['ER'].fillna(0)  \n",
    "\n",
    "rate_of_reaction_by_hour\n"
   ]
  },
  {
   "cell_type": "code",
   "execution_count": null,
   "metadata": {},
   "outputs": [],
   "source": [
    "plt.figure(figsize=(12, 6))  \n",
    "sns.barplot(data=rate_of_reaction_by_hour, x='hour', y='ER', hue='hour', palette='Blues_d')\n",
    "\n",
    "plt.title('Giá trị trung bình tỉ lệ tương tác theo giờ')\n",
    "plt.xlabel('Giờ')\n",
    "plt.ylabel('ER trung bình')\n",
    "plt.xticks(range(0, 24))  \n",
    "plt.show()\n"
   ]
  },
  {
   "cell_type": "markdown",
   "metadata": {},
   "source": [
    "Dựa vào biểu đồ trên ta thấy:\n",
    "- Khung giờ 22-23 giờ: Đây là khung giờ có tỷ lệ tương tác cao nhất. Điều này có thể gợi ý rằng người dùng hoạt động tích cực vào buổi đêm, lúc mọi người nghỉ ngơi, giải trí sau một ngày dài làm việc. Bên cạnh đó khung giờ 7- 8h sáng cũng có lượt tương tác cao không kém.\n",
    "- Buổi chiều và tối (13-23 giờ): Tỷ lệ tương tác duy trì ổn định nhưng không cao như khung giờ sáng.\n",
    "- Nửa đêm đến sáng sớm (0-5 giờ): Tương tác thấp nhất, có thể do người dùng ít hoạt động trong khoảng thời gian này.\n"
   ]
  },
  {
   "cell_type": "markdown",
   "metadata": {},
   "source": [
    "### 3.3 So sánh tương quan giữa thời lượng video và tỉ lệ tương tác"
   ]
  },
  {
   "cell_type": "code",
   "execution_count": null,
   "metadata": {},
   "outputs": [],
   "source": [
    "read_df.info()"
   ]
  },
  {
   "cell_type": "code",
   "execution_count": null,
   "metadata": {},
   "outputs": [],
   "source": [
    "vd = rate_reaction.copy()\n",
    "vd['videoMeta/duration'] = read_df['videoMeta/duration']\n",
    "vd"
   ]
  },
  {
   "cell_type": "code",
   "execution_count": null,
   "metadata": {},
   "outputs": [],
   "source": [
    "top10 = vd.nlargest(10, 'ER')\n",
    "top10[['videoMeta/duration', 'ER']]"
   ]
  },
  {
   "cell_type": "code",
   "execution_count": null,
   "metadata": {},
   "outputs": [],
   "source": [
    "top10_ = vd.nsmallest(10,'ER')\n",
    "top10_[['videoMeta/duration', 'ER']]"
   ]
  },
  {
   "cell_type": "code",
   "execution_count": null,
   "metadata": {},
   "outputs": [],
   "source": [
    "plt.figure(figsize=(10, 6))\n",
    "sns.scatterplot(data=vd, x='videoMeta/duration', y='ER', color='blue', s=100)\n",
    "\n",
    "sns.regplot(data=vd, x='videoMeta/duration', y='ER', scatter=False, color='red')\n",
    "plt.title('Tương quan giữa Thời lượng Video và Tỷ lệ Tương tác', fontsize=14)\n",
    "plt.xlabel('Thời lượng Video (giây)', fontsize=12)\n",
    "plt.ylabel('Tỷ lệ Tương tác (%)', fontsize=12)\n",
    "plt.grid(True)\n",
    "\n",
    "plt.show()"
   ]
  },
  {
   "cell_type": "markdown",
   "metadata": {},
   "source": [
    "**Dựa vào biểu đồ ta thấy**\n",
    "- Đường xu hướng màu đỏ (trendline) biểu thị mối tương quan giữa thời lượng video và tỷ lệ tương tác. Đường này dốc xuống rất nhẹ, cho thấy có mối tương quan âm yếu giữa thời lượng video và tỷ lệ tương tác.\n",
    "- Điều này có nghĩa là: Khi thời lượng video tăng, tỷ lệ tương tác có xu hướng giảm, nhưng mức giảm không lớn."
   ]
  },
  {
   "cell_type": "markdown",
   "metadata": {},
   "source": [
    "### 3.4 Phân tích mối tương quan giữa tần suất đăng bài và tỉ lệ tương tác"
   ]
  },
  {
   "cell_type": "markdown",
   "metadata": {},
   "source": [
    "## 3.4.1 Tần suất đăng bài theo tuần và tỷ lệ tương tác"
   ]
  },
  {
   "cell_type": "code",
   "execution_count": null,
   "metadata": {},
   "outputs": [],
   "source": [
    "read_df['ER'] = ((read_df['diggCount'] + read_df['commentCount'] + read_df['shareCount']) / read_df['playCount']) * 100\n",
    "\n",
    "# Tính số bài đăng mỗi tuần\n",
    "weekly_posts = read_df.resample('W', on='Date').size()\n",
    "\n",
    "weekly_er = read_df.resample('W', on='Date')['ER'].mean()\n",
    "data_for_plot = pd.DataFrame({\"Weekly Posts\": weekly_posts, \"Average ER\": weekly_er}).reset_index()"
   ]
  },
  {
   "cell_type": "code",
   "execution_count": null,
   "metadata": {},
   "outputs": [],
   "source": [
    "data_for_plot"
   ]
  },
  {
   "cell_type": "markdown",
   "metadata": {},
   "source": [
    "**Loại biểu đồ: Scatter plot với đường hồi quy.**"
   ]
  },
  {
   "cell_type": "code",
   "execution_count": null,
   "metadata": {},
   "outputs": [],
   "source": [
    "plt.figure(figsize=(10, 6))\n",
    "sns.scatterplot(data=data_for_plot, x=\"Weekly Posts\", y=\"Average ER\", color='blue', s=100)\n",
    "sns.regplot(data=data_for_plot, x=\"Weekly Posts\", y=\"Average ER\", scatter=False, color='red')\n",
    "\n",
    "plt.title('Tương quan giữa Số bài đăng mỗi tuần và Tỷ lệ tương tác', fontsize=14)\n",
    "plt.xlabel('Số bài đăng mỗi tuần (bài)', fontsize=12)  # Thêm đơn vị \"(bài)\"\n",
    "plt.ylabel('Tỷ lệ tương tác trung bình (%)', fontsize=12)\n",
    "plt.grid(True)\n",
    "\n",
    "plt.show()"
   ]
  },
  {
   "cell_type": "markdown",
   "metadata": {},
   "source": [
    "**Dựa vào biểu đồ trên ta thấy:**\n",
    "- Các điểm dữ liệu khá rải rác, cho thấy mối tương quan không chặt chẽ giữa số bài đăng mỗi tuần và tỷ lệ tương tác trung bình.\n",
    "- Đường hồi quy có độ dốc nhẹ, thể hiện mối tương quan dương rất yếu. Điều này gợi ý rằng việc tăng số bài đăng không làm tăng đáng kể tỷ lệ tương tác.\n",
    "- Hầu hết tỷ lệ tương tác phân bố nhiều từ 6% - 8%. Ngoài ra, có một vài điểm nổi bật tương tác cao lên đến tận 14%."
   ]
  },
  {
   "cell_type": "markdown",
   "metadata": {},
   "source": [
    "**Loại biểu đồ: Heatmap.**"
   ]
  },
  {
   "cell_type": "code",
   "execution_count": null,
   "metadata": {},
   "outputs": [],
   "source": [
    "plt.figure(figsize=(10, 6))\n",
    "heatmap_data = data_for_plot.pivot_table(index=\"Weekly Posts\", values=\"Average ER\", aggfunc=\"mean\")\n",
    "sns.heatmap(heatmap_data, annot=True, cmap=\"coolwarm\", cbar=True)\n",
    "\n",
    "plt.title(\"Mối tương quan giữa Số bài đăng và Tỷ lệ tương tác (Heatmap)\", fontsize=14)\n",
    "plt.xlabel(\"Tần suất đăng bài\", fontsize=12)\n",
    "plt.ylabel(\"Tỷ lệ tương tác trung bình (%)\", fontsize=12)\n",
    "plt.show()\n"
   ]
  },
  {
   "cell_type": "markdown",
   "metadata": {},
   "source": [
    "Dựa vào biểu đồ trên ta thấy:\n",
    "- Số bài đăng từ 6 đến 10 bài mỗi tuần có xu hướng đạt tỷ lệ tương tác cao hơn trung bình trên 7.2%. Đạt đỉnh ở 7 và 9 bài (7.5% và 7.7%).\n",
    "- Khi đăng từ 2 đến 4 bài mỗi tuần tỷ lệ tương tác giảm rõ rệt chỉ từ 5.8-6.3%. Ngoài ra, số bài đăng quá nhiều từ 11 đến 13 bài mỗi tuần thì hiệu quả tương tác lại giảm, có thể do người dùng cảm thấy \"bội thực nội dung\".\n",
    "\n",
    "\n",
    "**Kết luận**\n",
    "  - Nên duy trì trong khoảng 6-10 bài mỗi tuần để đạt hiệu quả tương tác cao nhất. Đăng quá nhiều hoặc quá ít có thể gây giảm hiệu suất tương tác.\n",
    "  -> Biểu đồ này cho thấy rằng số lượng bài đăng hợp lý cần được cân đối với chất lượng nội dung để đạt hiệu quả tương tác tốt nhất."
   ]
  },
  {
   "cell_type": "code",
   "execution_count": null,
   "metadata": {},
   "outputs": [],
   "source": [
    "plt.figure(figsize=(10, 6))\n",
    "sns.boxplot(data=data_for_plot, x=\"Weekly Posts\", y=\"Average ER\", palette=\"Set2\")\n",
    "\n",
    "plt.title(\"Phân phối Tỷ lệ tương tác theo Số bài đăng\", fontsize=14)\n",
    "plt.xlabel(\"Số bài đăng mỗi tuần\", fontsize=12)\n",
    "plt.ylabel(\"Tỷ lệ tương tác trung bình (%)\", fontsize=12)\n",
    "plt.grid(True)\n",
    "plt.show()\n"
   ]
  },
  {
   "cell_type": "markdown",
   "metadata": {},
   "source": [
    "## 3.4.2 Tần suất đăng bài theo tháng và tỷ lệ tương tác"
   ]
  },
  {
   "cell_type": "code",
   "execution_count": null,
   "metadata": {},
   "outputs": [],
   "source": [
    "# Tính số bài đăng mỗi tháng\n",
    "monthly_posts = read_df.resample('ME', on='Date').size()\n",
    "\n",
    "# Tính tỷ lệ tương tác trung bình mỗi tháng\n",
    "monthly_er = read_df.resample('ME', on='Date')['ER'].mean()\n",
    "\n",
    "data_for_month_plot = pd.DataFrame({\"Monthly Posts\": monthly_posts, \"Average ER\": monthly_er}).reset_index()\n",
    "data_for_month_plot"
   ]
  },
  {
   "cell_type": "markdown",
   "metadata": {},
   "source": [
    "**Loại biểu đồ: Scatter plot với đường hồi quy.**"
   ]
  },
  {
   "cell_type": "code",
   "execution_count": null,
   "metadata": {},
   "outputs": [],
   "source": [
    "plt.figure(figsize=(10, 6))\n",
    "sns.scatterplot(data=data_for_month_plot, x=\"Monthly Posts\", y=\"Average ER\", color='blue', s=100)\n",
    "sns.regplot(data=data_for_month_plot, x=\"Monthly Posts\", y=\"Average ER\", scatter=False, color='red')\n",
    "\n",
    "plt.title(\"Tương quan giữa Số bài đăng theo tháng và Tỷ lệ tương tác\", fontsize=14)\n",
    "plt.xlabel(\"Số bài đăng mỗi tháng\", fontsize=12)\n",
    "plt.ylabel(\"Tỷ lệ tương tác trung bình (%)\", fontsize=12)\n",
    "plt.grid(True)\n",
    "\n",
    "plt.show()\n"
   ]
  },
  {
   "cell_type": "markdown",
   "metadata": {},
   "source": [
    "- Đường hồi quy có độ dốc nhẹ, thể hiện mối tương quan dương rất yếu.\n",
    "- Mặc dù có vẻ như tỷ lệ tương tác tăng lên khi số lượng bài đăng mỗi tháng tăng, mức độ tương quan không quá mạnh. Điều này có thể cho thấy rằng có các yếu tố khác ảnh hưởng đến tỷ lệ tương tác như chất lượng video hoặc nội dung, không chỉ riêng số lượng bài đăng."
   ]
  },
  {
   "cell_type": "markdown",
   "metadata": {},
   "source": [
    "**Loại biểu đồ: Heatmap.**"
   ]
  },
  {
   "cell_type": "code",
   "execution_count": null,
   "metadata": {},
   "outputs": [],
   "source": [
    "plt.figure(figsize=(10, 6))\n",
    "heatmap_data_month = data_for_month_plot.pivot_table(index=\"Monthly Posts\", values=\"Average ER\", aggfunc=\"mean\")\n",
    "sns.heatmap(heatmap_data_month, annot=True, cmap=\"coolwarm\", cbar=True, annot_kws={\"size\": 12})  # Thêm annot_kws để giảm kích thước chữ\n",
    "\n",
    "plt.title(\"Mối tương quan giữa Số bài đăng theo tháng và Tỷ lệ tương tác\", fontsize=14)\n",
    "plt.xlabel(\"Tần suất đăng bài theo tháng\", fontsize=12)\n",
    "plt.ylabel(\"Tỷ lệ tương tác trung bình (%)\", fontsize=12)\n",
    "plt.show()\n",
    "\n"
   ]
  },
  {
   "cell_type": "markdown",
   "metadata": {},
   "source": [
    "**Loại biểu đồ: Pair Plot.**"
   ]
  },
  {
   "cell_type": "code",
   "execution_count": null,
   "metadata": {},
   "outputs": [],
   "source": [
    "data_for_month_plot_vn = data_for_month_plot.rename(\n",
    "    columns={\"Monthly Posts\": \"Số bài đăng mỗi tháng\"}\n",
    ")\n",
    "sns.pairplot(data=data_for_month_plot_vn, diag_kind='kde', height=3, aspect=1.2)\n",
    "plt.suptitle(\"Phân tích Tương quan qua Pair Plot\", y=1.02, fontsize=14)\n",
    "plt.show()\n"
   ]
  },
  {
   "cell_type": "markdown",
   "metadata": {},
   "source": [
    "### 3.5 So sánh tỷ lệ tương tác giữa bài đăng có title và không có title"
   ]
  },
  {
   "cell_type": "code",
   "execution_count": null,
   "metadata": {},
   "outputs": [],
   "source": [
    "# Tách cột title từ cột text bỏ hastag \n",
    "read_df['title'] = read_df['text'].apply(\n",
    "    lambda x: re.match(r'^(.*?)(?:\\s*#|$)', x).group(1).strip() if isinstance(x, str) else x\n",
    ")\n",
    "\n",
    "# Tính lượt tỷ lệ tương tác\n",
    "read_df['ER'] = ((read_df['diggCount'] + read_df['commentCount'] + read_df['shareCount']) / read_df['playCount']) * 100\n",
    "\n",
    "# Tách các bài đăng có title và không có title\n",
    "df_with_title = read_df[read_df['title'] != '']\n",
    "df_without_title = read_df[read_df['title'] == '']\n",
    "\n",
    "# Tính ER trung bình của từng nhóm\n",
    "er_with_title = df_with_title['ER'].mean()\n",
    "er_without_title = df_without_title['ER'].mean()\n",
    "\n",
    "print(\"Tỷ lệ tương tác của bài đăng có title: \",er_with_title)\n",
    "print(\"Tỷ lệ tương tác của bài đăng không title: \",er_without_title)"
   ]
  },
  {
   "cell_type": "code",
   "execution_count": null,
   "metadata": {},
   "outputs": [],
   "source": [
    "plt.figure(figsize=(6, 8))\n",
    "sns.barplot(x=['Có title', 'Không có title'], y=[er_with_title, er_without_title], color='skyblue')\n",
    "\n",
    "plt.xlabel('Loại bài đăng', fontsize=14)\n",
    "plt.ylabel('Tỷ lệ tương tác (%)', fontsize=14)\n",
    "plt.title('So sánh tỷ lệ tương tác giữa bài đăng có title và không có title', fontsize=16)\n",
    "plt.show()"
   ]
  },
  {
   "cell_type": "markdown",
   "metadata": {},
   "source": [
    "- Dựa vào biểu đồ ta thấy tỉ lệ tương tác của bài đăng có title và không có title đều có tỉ lệ tương tác khá cao (trên 6%)\n",
    "- Sự chênh lệch của 2 loại bài đăng này không cao -> Có title hay không có title không ảnh hưởng quá nhiều đến lượt tương tác. Nguyên nhân là do nick Tiktok này thường dùng video có lời nói để kể những câu chuyện về con người và lịch sử Việt Nam nên nội dung người để trên video như tiêu đề của 1 đoạn phim ngắn luôn."
   ]
  },
  {
   "cell_type": "markdown",
   "metadata": {},
   "source": [
    "### 3.6 Từ phổ biến trong bài đăng"
   ]
  },
  {
   "cell_type": "markdown",
   "metadata": {},
   "source": [
    "- Tách title từ caption bỏ hastag"
   ]
  },
  {
   "cell_type": "code",
   "execution_count": null,
   "metadata": {},
   "outputs": [],
   "source": [
    "print(read_df[['title']])"
   ]
  },
  {
   "cell_type": "code",
   "execution_count": null,
   "metadata": {},
   "outputs": [],
   "source": [
    "from wordcloud import WordCloud, STOPWORDS\n",
    "\n",
    "text_data = \" \".join(read_df['title'].dropna())  # Ghép tất cả các tiêu đề thành một chuỗi lớn\n",
    "\n",
    "# Danh sách từ dừng tiếng Việt\n",
    "vietnamese_stopwords = {\"là\", \"và\", \"của\", \"một\", \"những\", \"có\", \"được\", \"trong\", \"với\", \n",
    "                        \"này\", \"các\", \"cho\", \"để\", \"khi\", \"đã\", \"từ\", \"ra\", \"vào\", \"sẽ\", \n",
    "                        \"thì\", \"như\", \"về\", \"lại\", \"nhiều\", \"đó\", \"nên\", \"hơn\", \"nữa\", \"ở\", \"nơi\"}\n",
    "# Mở rộng từ dừng WordCloud với từ dừng tiếng Việt\n",
    "stopwords = STOPWORDS.union(vietnamese_stopwords)\n",
    "\n",
    "# Tạo WordCloud với font hỗ trợ tiếng Việt\n",
    "wordcloud = WordCloud(width=800, height=400, background_color=\"white\", \n",
    "                      colormap=\"viridis\", stopwords=stopwords).generate(text_data)\n",
    "plt.figure(figsize=(10, 5))\n",
    "plt.imshow(wordcloud, interpolation=\"bilinear\")\n",
    "plt.axis(\"off\")\n",
    "plt.title(\"Biểu đồ Word Cloud - Các từ phổ biến trong tiêu đề\", fontsize=16)\n",
    "plt.show()"
   ]
  },
  {
   "cell_type": "markdown",
   "metadata": {},
   "source": [
    "Các từ nổi bật như \"Người\", \"Việt Nam\", \"Anh Hùng\", \"Chiến Tranh\", \"Tổ Quốc\", \"Bác Hồ\" cho thấy nội dung tài khoản này tập trung vào lịch sử, tinh thần dân tộc và các câu chuyện liên quan đến lịch sử Việt Nam."
   ]
  },
  {
   "cell_type": "markdown",
   "metadata": {},
   "source": [
    "## 4. Xây dựng mô hình dự đoán dựa trên PCA, học máy"
   ]
  },
  {
   "cell_type": "markdown",
   "metadata": {},
   "source": [
    "### 4.1 Ý tưởng ban đầu"
   ]
  },
  {
   "cell_type": "markdown",
   "metadata": {},
   "source": [
    "Dùng PCA để giảm chiều dữ liệu đầu ra collectCount, commentCount, shareCount, diggCount, playCount thành một thành phần duy nhất"
   ]
  },
  {
   "cell_type": "code",
   "execution_count": null,
   "metadata": {},
   "outputs": [
    {
     "name": "stdout",
     "output_type": "stream",
     "text": [
      "<class 'pandas.core.frame.DataFrame'>\n",
      "RangeIndex: 863 entries, 0 to 862\n",
      "Data columns (total 5 columns):\n",
      " #   Column        Non-Null Count  Dtype\n",
      "---  ------        --------------  -----\n",
      " 0   collectCount  863 non-null    int64\n",
      " 1   commentCount  863 non-null    int64\n",
      " 2   shareCount    863 non-null    int64\n",
      " 3   diggCount     863 non-null    int64\n",
      " 4   playCount     863 non-null    int64\n",
      "dtypes: int64(5)\n",
      "memory usage: 33.8 KB\n",
      "Tỷ lệ phương sai giải thích của các thành phần chính:\n",
      "[0.77033579]\n",
      "Hệ số tải (Loadings):\n",
      "     collectCount  commentCount  shareCount  diggCount  playCount\n",
      "PC1        0.4241      0.420543    0.424168   0.481821   0.480846\n"
     ]
    }
   ],
   "source": [
    "import pandas as pd\n",
    "from sklearn.preprocessing import StandardScaler\n",
    "from sklearn.decomposition import PCA\n",
    "from sklearn.ensemble import RandomForestRegressor\n",
    "from sklearn.model_selection import train_test_split\n",
    "from sklearn.preprocessing import StandardScaler\n",
    "from sklearn.metrics import mean_squared_error\n",
    "data1= pd.DataFrame(read_df[['collectCount','commentCount','shareCount','diggCount','playCount']])\n",
    "data1.info()\n",
    "scaler = StandardScaler()\n",
    "data_scaled = scaler.fit_transform(data1)\n",
    "pca = PCA(n_components=1)\n",
    "principal_components = pca.fit_transform(data_scaled)\n",
    "print(\"Tỷ lệ phương sai giải thích của các thành phần chính:\")\n",
    "print(pca.explained_variance_ratio_)\n",
    "loadings = pd.DataFrame(pca.components_, columns=['collectCount','commentCount','shareCount','diggCount','playCount'], index=['PC1'])\n",
    "print(\"Hệ số tải (Loadings):\")\n",
    "print(loadings)"
   ]
  },
  {
   "cell_type": "markdown",
   "metadata": {},
   "source": [
    "Vẽ biểu đồ tương quan giữa các biên đầu vào và biến mục tiêu"
   ]
  },
  {
   "cell_type": "code",
   "execution_count": null,
   "metadata": {},
   "outputs": [
    {
     "data": {
      "image/png": "[encoded data removed]",
      "text/plain": [
       "<Figure size 1200x800 with 2 Axes>"
      ]
     },
     "metadata": {},
     "output_type": "display_data"
    },
    {
     "name": "stdout",
     "output_type": "stream",
     "text": [
      "PC1                   1.000000\n",
      "hour                  0.003698\n",
      "videoMeta/duration   -0.031135\n",
      "Name: PC1, dtype: float64\n"
     ]
    }
   ],
   "source": [
    "\n",
    "pca_df = pd.DataFrame(principal_components, columns=['PC1'])\n",
    "c=pd.DataFrame(read_df[['hour', 'videoMeta/duration']])\n",
    "c['PC1']=pca_df['PC1']\n",
    "correlation_matrix = c.corr()\n",
    "\n",
    "plt.figure(figsize=(12, 8))\n",
    "sns.heatmap(correlation_matrix, annot=True, cmap='coolwarm', fmt='.2f')\n",
    "plt.title(\"Correlation Matrix\")\n",
    "plt.show()\n",
    "\n",
    "print(correlation_matrix['PC1'].sort_values(ascending=False))\n"
   ]
  },
  {
   "cell_type": "markdown",
   "metadata": {},
   "source": [
    "Ta có thế nhận thấy mối quan hệ của các biên trên là phi tuyến => Không thể sử dụng hồi quy tuyến tính trong dự đoán"
   ]
  },
  {
   "cell_type": "markdown",
   "metadata": {},
   "source": [
    "### 4.2 Ý tưởng sau"
   ]
  },
  {
   "cell_type": "markdown",
   "metadata": {},
   "source": [
    "Xây dựng mô hình dự đoán lượt share dựa trên lượt xem, comment, like"
   ]
  },
  {
   "cell_type": "code",
   "execution_count": null,
   "metadata": {},
   "outputs": [
    {
     "name": "stdout",
     "output_type": "stream",
     "text": [
      "0.8115914729902837\n"
     ]
    }
   ],
   "source": [
    "from sklearn.model_selection import train_test_split\n",
    "train,test,train_label,test_label=train_test_split(read_df[['playCount','shareCount','commentCount']],read_df['diggCount'],test_size=0.33,random_state=30)\n",
    "\n",
    "from sklearn.linear_model import LinearRegression\n",
    "reg=LinearRegression(fit_intercept=True)\n",
    "model = reg.fit(train,train_label)\n",
    "predict = model.predict(test)\n",
    "\n",
    "from sklearn.metrics import r2_score\n",
    "print(r2_score(test_label,predict))"
   ]
  },
  {
   "cell_type": "markdown",
   "metadata": {},
   "source": [
    "# II. Phân tích và so sánh với tài khoản 'Công Ken'"
   ]
  },
  {
   "cell_type": "markdown",
   "metadata": {},
   "source": [
    "## Phần 1: Xử lý dữ liệu (Data Cleaning)"
   ]
  },
  {
   "cell_type": "code",
   "execution_count": null,
   "metadata": {},
   "outputs": [],
   "source": [
    "read_df2 = pd.read_csv('Data/Dataset_ntcong5.csv',  encoding='ISO-8859-1')"
   ]
  },
  {
   "cell_type": "code",
   "execution_count": null,
   "metadata": {},
   "outputs": [],
   "source": [
    "read_df2.info()"
   ]
  },
  {
   "cell_type": "code",
   "execution_count": null,
   "metadata": {},
   "outputs": [],
   "source": [
    "# Tiếp tục với quá trình xử lý dữ liệu, chúng ta sẽ xóa đi những cột có giá trị null hoàn toàn \n",
    "read_df2 = read_df2.dropna(axis='columns', how='all')"
   ]
  },
  {
   "cell_type": "code",
   "execution_count": null,
   "metadata": {},
   "outputs": [],
   "source": [
    "read_df2"
   ]
  },
  {
   "cell_type": "code",
   "execution_count": null,
   "metadata": {},
   "outputs": [],
   "source": [
    "# Tính tỷ lệ giá trị null cho mỗi cột\n",
    "Null_Percentage2 = read_df2.isnull().mean()\n",
    "\n",
    "# Lấy các cột có tỷ lệ giá trị null lớn hơn 99%\n",
    "Null_more_ninety2 = Null_Percentage2[Null_Percentage2 > 0.99].index\n",
    "\n",
    "# Xóa các cột có tỷ lệ giá trị null lớn hơn 99%\n",
    "read_df2 = read_df2.drop(columns=Null_more_ninety2)\n",
    "\n",
    "Null_Percentage[(Null_Percentage > 0.5) & (Null_Percentage < 0.99)].index"
   ]
  },
  {
   "cell_type": "code",
   "execution_count": null,
   "metadata": {},
   "outputs": [],
   "source": [
    "coloumns_drop_many22 = ['detailedMentions/0/id', 'detailedMentions/0/name',\n",
    "       'detailedMentions/0/nickName', 'detailedMentions/0/postUrl',\n",
    "       'detailedMentions/0/profileUrl', 'hashtags/4/name', 'hashtags/5/name',\n",
    "       'hashtags/6/name', 'mentions/0', 'musicMeta/musicAlbum',\n",
    "       'videoMeta/subtitleLinks/0/downloadLink',\n",
    "       'videoMeta/subtitleLinks/0/language',\n",
    "       'videoMeta/subtitleLinks/0/tiktokLink']\n",
    "\n",
    "read_df2 = read_df2.drop(columns=coloumns_drop_many22)"
   ]
  },
  {
   "cell_type": "code",
   "execution_count": null,
   "metadata": {},
   "outputs": [],
   "source": [
    "read_df2.info()"
   ]
  },
  {
   "cell_type": "code",
   "execution_count": null,
   "metadata": {},
   "outputs": [],
   "source": [
    "read_df2[\"ï»¿authorMeta/avatar\"].dropna().head(200)\n",
    "#Dữ liệu dẫn đến link avatar của chủ sở hữu\n",
    "# => Xóa\n",
    "read_df2 = read_df2.drop(columns=\"ï»¿authorMeta/avatar\")\n",
    "\n",
    "read_df2[\"authorMeta/commerceUserInfo/commerceUser\"].dropna().head(200)\n",
    "#Dữ liệu chỉ toàn giá trị False\n",
    "# => Xóa vì không có giá trị phân tích\n",
    "read_df2 = read_df2.drop(columns=\"authorMeta/commerceUserInfo/commerceUser\")\n",
    "\n",
    "read_df2[\"authorMeta/digg\"].dropna().head(200)\n",
    "#Dữ liệu chỉ toàn giá trị 0\n",
    "# => Xóa vì không có giá trị phân tích\n",
    "read_df2 = read_df2.drop(columns=\"authorMeta/digg\")\n",
    "\n",
    "#Loại bỏ các cột có dữ liệu bất biến\n",
    "for col in read_df2.columns:\n",
    "    if read_df2[col].nunique() == 1:\n",
    "        read_df2 = read_df2.drop(columns=col)\n",
    "coloumns_drop_many3 = ['musicMeta/coverMediumUrl','musicMeta/musicId',\n",
    "                      'musicMeta/musicName','musicMeta/originalCoverMediumUrl','musicMeta/playUrl']\n",
    "#Tương tự với các cột có dữ liệu không thể phân tích được của tag musicMeta\n",
    "read_df2 = read_df2.drop(columns=coloumns_drop_many3)\n",
    "coloumns_drop_many4 = ['videoMeta/coverUrl',\n",
    "                      'videoMeta/height','videoMeta/originalCoverUrl','videoMeta/width']\n",
    "#Tương tự với các cột có dữ liệu không thể phân tích được của tag videoMeta\n",
    "read_df2 = read_df2.drop(columns=coloumns_drop_many4)\n",
    "\n",
    "read_df2[\"id\"].dropna().head(200)\n",
    "#Dữ liệu là các con số\n",
    "# => Xóa vì không có giá trị phân tích\n",
    "read_df2 = read_df2.drop(columns=\"id\")\n",
    "\n",
    "read_df2[\"webVideoUrl\"].dropna().head(200)\n",
    "#Dữ liệu là các con số\n",
    "# => Xóa vì không có giá trị phân tích\n",
    "read_df2 = read_df2.drop(columns=\"webVideoUrl\")\n",
    "\n",
    "\n"
   ]
  },
  {
   "cell_type": "code",
   "execution_count": null,
   "metadata": {},
   "outputs": [],
   "source": [
    "from datetime import datetime\n",
    "from dateutil import parser\n",
    "import pytz\n",
    "\n",
    "vietnam_tz = pytz.timezone(\"Asia/Ho_Chi_Minh\")\n",
    "\n",
    "read_df2['createTimeISO'] = read_df2['createTimeISO'].astype(str)\n",
    "read_df2['createTimeISO'] = read_df2['createTimeISO'].apply(\n",
    "    lambda x: parser.isoparse(x).astimezone(vietnam_tz)\n",
    ")\n",
    "read_df2['createTimeISO'] = read_df2['createTimeISO'].astype(str)\n",
    "\n",
    "read_df2['createTimeISO'] = read_df2['createTimeISO'].apply(\n",
    "    lambda x: datetime.fromisoformat(x).astimezone(vietnam_tz)\n",
    ")\n",
    "read_df2['date'] = read_df2['createTimeISO'].apply(lambda x: x.date())  # Chỉ lấy ngày\n",
    "read_df2['hour'] = read_df2['createTimeISO'].apply(lambda x: x.hour)   # Chỉ lấy giờ\n",
    "read_df2['year'] = read_df2['date'].apply(lambda x: x.year)\n",
    "read_df2['month'] = read_df2['date'].apply(lambda x: x.month)\n",
    "read_df2['day'] = read_df2['date'].apply(lambda x: x.day)\n",
    "read_df2.drop(columns=['createTimeISO', 'date'], inplace=True)\n"
   ]
  },
  {
   "cell_type": "code",
   "execution_count": null,
   "metadata": {},
   "outputs": [],
   "source": [
    "read_df2 = read_df2.drop(columns=\"isSlideshow\")\n",
    "read_df2"
   ]
  },
  {
   "cell_type": "markdown",
   "metadata": {},
   "source": [
    "**Vậy dữ liệu còn lại 15 cột giá trị để phân tích và so sánh**"
   ]
  },
  {
   "cell_type": "code",
   "execution_count": null,
   "metadata": {},
   "outputs": [],
   "source": [
    "read_df2['text']=read_df2['text'].astype(str)\n",
    "read_df2['text_length']=read_df2['text'].apply(lambda x: len(list(x.split(\" \"))))"
   ]
  },
  {
   "cell_type": "code",
   "execution_count": null,
   "metadata": {},
   "outputs": [],
   "source": [
    "read_df2['text']= read_df2['text'].apply(lambda x: x.encode('latin1').decode('utf-8'))\n",
    "read_df2['text'].dropna().head(200)"
   ]
  },
  {
   "cell_type": "markdown",
   "metadata": {},
   "source": [
    "## Phần 2: Phân tích và so sánh dữ liệu"
   ]
  },
  {
   "cell_type": "markdown",
   "metadata": {},
   "source": [
    "### 2.1 So sánh tần suất đăng bài của nick Dòng Máu Việt và Công Ken"
   ]
  },
  {
   "cell_type": "code",
   "execution_count": null,
   "metadata": {},
   "outputs": [],
   "source": [
    "read_df2['date'] = pd.to_datetime(read_df2[['year', 'month', 'day']])\n",
    "\n",
    "# Chuyển 'date' thành kiểu datetime\n",
    "read_df['date'] = pd.to_datetime(read_df['date'])\n",
    "read_df2['date'] = pd.to_datetime(read_df2['date'])\n",
    "\n",
    "monthly_posts1 = read_df.resample('ME', on='date').size()\n",
    "monthly_posts2 = read_df2.resample('ME', on='date').size()\n",
    "\n",
    "mean_posts1 = monthly_posts1.mean()\n",
    "mean_posts2 = monthly_posts2.mean()\n",
    "\n",
    "print(f\"Dòng Máu Việt - Trung bình bài đăng/tháng: {mean_posts1:.2f}\")\n",
    "print(f\"Công Ken - Trung bình bài đăng/tháng: {mean_posts2:.2f}\")"
   ]
  },
  {
   "cell_type": "code",
   "execution_count": null,
   "metadata": {},
   "outputs": [],
   "source": [
    "plt.figure(figsize=(12, 6))  \n",
    "# Dòng Máu Việt\n",
    "plt.plot(\n",
    "    monthly_posts1.index,\n",
    "    monthly_posts1.values,\n",
    "    label='Dòng Máu Việt',\n",
    "    color='blue'\n",
    ")\n",
    "\n",
    "# Công Ken\n",
    "plt.plot(\n",
    "    monthly_posts2.index,\n",
    "    monthly_posts2.values,\n",
    "    label='Công Ken',\n",
    "    color='red'\n",
    ")\n",
    "plt.title('So sánh tần suất đăng bài theo tháng', fontsize=16)\n",
    "plt.xlabel('Tháng', fontsize=12)\n",
    "plt.ylabel('Số lượng bài đăng', fontsize=12)\n",
    "plt.grid(True, linestyle='--', alpha=0.7)\n",
    "plt.legend(fontsize=12)\n",
    "\n",
    "plt.gca().xaxis.set_major_locator(mdates.MonthLocator(interval=1))  # Hiện mỗi tháng\n",
    "plt.gca().xaxis.set_major_formatter(mdates.DateFormatter('%b %Y'))  # Tháng + năm\n",
    "plt.xticks(rotation=45, fontsize=10)\n",
    "\n",
    "plt.tight_layout()\n",
    "plt.show()"
   ]
  },
  {
   "cell_type": "markdown",
   "metadata": {},
   "source": [
    "Theo biểu đồ ta nhận thấy, Tần suất đăng bài của Dòng Máu Việt ổn định vào cao hơn Công Ken."
   ]
  },
  {
   "cell_type": "markdown",
   "metadata": {},
   "source": [
    "### 2.2 So sánh mức độ tương tác của 2 tài khoản"
   ]
  },
  {
   "cell_type": "code",
   "execution_count": null,
   "metadata": {},
   "outputs": [],
   "source": [
    "comparison_reaction = pd.DataFrame()\n",
    "\n",
    "comparison_reaction[''] = ['Lượt thích', 'Lượt comment', 'Lượt share']\n",
    "comparison_reaction['Dòng Máu Việt'] = [read_df['diggCount'].mean(), read_df['commentCount'].mean(), read_df['shareCount'].mean()]\n",
    "comparison_reaction['Công Ken'] = [read_df2['diggCount'].mean(), read_df2['commentCount'].mean(), read_df2['shareCount'].mean()]\n",
    "\n",
    "comparison_reaction\n"
   ]
  },
  {
   "cell_type": "code",
   "execution_count": null,
   "metadata": {},
   "outputs": [],
   "source": [
    "mean_values_df1 = {\n",
    "    'diggCount': read_df['diggCount'].mean(),\n",
    "    'commentCount': read_df['commentCount'].mean(),\n",
    "    'shareCount': read_df['shareCount'].mean()\n",
    "}\n",
    "\n",
    "mean_values_df2 = {\n",
    "    'diggCount': read_df2['diggCount'].mean(),\n",
    "    'commentCount': read_df2['commentCount'].mean(),\n",
    "    'shareCount': read_df2['shareCount'].mean()\n",
    "}\n",
    "\n",
    "fig, axs = plt.subplots(1, 3, figsize=(15, 5))\n",
    "\n",
    "metrics = ['diggCount', 'commentCount', 'shareCount']\n",
    "titles = ['DiggCount', 'CommentCount', 'ShareCount']\n",
    "colors = ['blue', 'orange']\n",
    "\n",
    "for i, metric in enumerate(metrics):\n",
    "    axs[i].bar(['Dòng Máu Việt', 'Công Ken'], [mean_values_df1[metric], mean_values_df2[metric]], color=colors)\n",
    "    axs[i].set_title(f'{titles[i]}')\n",
    "    axs[i].set_ylabel('Mức độ tương tác trung bình')\n",
    "\n",
    "plt.tight_layout()\n",
    "plt.show()"
   ]
  },
  {
   "cell_type": "markdown",
   "metadata": {},
   "source": [
    "Nhìn chung, dù cho số lượng followers gần bằng nhau nhưng độ tương tác của Công Ken luôn cao hơn hẳn Dòng Máu Việt, chứng tỏ độ thu hút của kênh Tik tok về chủ đề giải trí hiện đại vẫn đạt lượng quan tâm cao hơn"
   ]
  },
  {
   "cell_type": "markdown",
   "metadata": {},
   "source": [
    "### 2.3 So sánh hastag và từ ngữ phổ biến"
   ]
  },
  {
   "cell_type": "markdown",
   "metadata": {},
   "source": [
    "## 2.3.1 So sánh hastag của 2 nick"
   ]
  },
  {
   "cell_type": "code",
   "execution_count": null,
   "metadata": {},
   "outputs": [],
   "source": [
    "import pandas as pd\n",
    "\n",
    "# Tách và làm sạch các cột hashtag trong read_df, loại bỏ NaN\n",
    "hashtags_df1 = pd.concat([read_df['hashtags/0/name'].dropna(), \n",
    "                          read_df['hashtags/1/name'].dropna(), \n",
    "                          read_df['hashtags/2/name'].dropna()], ignore_index=True)\n",
    "\n",
    "# Tách và làm sạch các cột hashtag trong read_df2, loại bỏ NaN\n",
    "hashtags_df2 = pd.concat([read_df2['hashtags/0/name'].dropna(), \n",
    "                          read_df2['hashtags/1/name'].dropna(), \n",
    "                          read_df2['hashtags/2/name'].dropna(), \n",
    "                          read_df2['hashtags/3/name'].dropna()], ignore_index=True)\n",
    "\n",
    "hashtags_count1 = hashtags_df1.value_counts()\n",
    "hashtags_count2 = hashtags_df2.value_counts()\n",
    "\n",
    "# Hashtag chung \n",
    "common_hashtags = hashtags_count1.index.intersection(hashtags_count2.index)\n",
    "\n",
    "# Hashtag chỉ có trong read_df\n",
    "unique_hashtags1 = hashtags_count1[~hashtags_count1.index.isin(hashtags_count2.index)]\n",
    "\n",
    "# Hashtag chỉ có trong read_df2 \n",
    "unique_hashtags2 = hashtags_count2[~hashtags_count2.index.isin(hashtags_count1.index)]\n",
    "\n",
    "hashtags_info = {\n",
    "    'Hashtag': [],\n",
    "    'Dòng máu Việt': [],  \n",
    "    'Công Ken': [] \n",
    "}\n",
    "\n",
    "# Hashtag chung\n",
    "for hashtag in common_hashtags:\n",
    "    hashtags_info['Hashtag'].append(hashtag)\n",
    "    hashtags_info['Dòng máu Việt'].append(hashtags_count1[hashtag])\n",
    "    hashtags_info['Công Ken'].append(hashtags_count2[hashtag])\n",
    "\n",
    "for hashtag, count in unique_hashtags1.items():\n",
    "    hashtags_info['Hashtag'].append(hashtag)\n",
    "    hashtags_info['Dòng máu Việt'].append(count)\n",
    "    hashtags_info['Công Ken'].append(0)\n",
    "\n",
    "for hashtag, count in unique_hashtags2.items():\n",
    "    hashtags_info['Hashtag'].append(hashtag)\n",
    "    hashtags_info['Dòng máu Việt'].append(0)\n",
    "    hashtags_info['Công Ken'].append(count)\n",
    "\n",
    "hashtags_df = pd.DataFrame(hashtags_info)\n",
    "\n",
    "hashtags_df\n"
   ]
  },
  {
   "cell_type": "code",
   "execution_count": null,
   "metadata": {},
   "outputs": [],
   "source": [
    "unique_hashtags_nick1 = hashtags_df1.nunique()  \n",
    "unique_hashtags_nick2 = hashtags_df2.nunique()\n",
    "\n",
    "print(\"Số lượng hashtag khác nhau của nick Dòng Máu Việt: \", unique_hashtags_nick1)\n",
    "print(\"Số lượng hashtag khác nhau của nick Công Ken: \", unique_hashtags_nick2)\n"
   ]
  },
  {
   "cell_type": "markdown",
   "metadata": {},
   "source": [
    "- Vì tỉ lệ tương tác của nick Công Ken cao hơn Dòng Máu Việt, tần suất đăng bài của Công Ken ít hơn. Nên ta có thể thấy sự đa dạng trong hastag có thể làm tăng tỉ lệ tương tác và tỉ lệ tiếp cận người xem cao hơn"
   ]
  },
  {
   "cell_type": "markdown",
   "metadata": {},
   "source": [
    "## 2.3.2 So sánh từ ngữ phổ biến của 2 nick"
   ]
  },
  {
   "cell_type": "markdown",
   "metadata": {},
   "source": [
    "*Tách title từ cột text bỏ hastag*"
   ]
  },
  {
   "cell_type": "code",
   "execution_count": null,
   "metadata": {},
   "outputs": [],
   "source": [
    "read_df2['title'] = read_df2['text'].apply(\n",
    "    lambda x: re.match(r'^(.*?)(?:\\s*#|$)', x).group(1).strip() if isinstance(x, str) else x\n",
    ")\n",
    "\n",
    "print(read_df2[['title']])\n"
   ]
  },
  {
   "cell_type": "code",
   "execution_count": null,
   "metadata": {},
   "outputs": [],
   "source": [
    "from wordcloud import WordCloud, STOPWORDS\n",
    "\n",
    "text_data = \" \".join(read_df2['title'].dropna())  # Ghép tất cả các tiêu đề lại thành một chuỗi lớn\n",
    "\n",
    "# Danh sách từ dừng tiếng Việt\n",
    "vietnamese_stopwords = {\"là\", \"và\", \"của\", \"một\", \"những\", \"có\", \"được\", \"trong\", \"với\", \n",
    "                        \"này\", \"các\", \"cho\", \"để\", \"khi\", \"đã\", \"từ\", \"ra\", \"vào\", \"sẽ\", \n",
    "                        \"thì\", \"như\", \"về\", \"lại\", \"nhiều\", \"đó\", \"nên\", \"hơn\", \"nữa\", \"ở\", \"nơi\"}\n",
    "\n",
    "stopwords = STOPWORDS.union(vietnamese_stopwords)\n",
    "\n",
    "wordcloud = WordCloud(width=800, height=400, background_color=\"white\", \n",
    "                      colormap=\"viridis\", stopwords=stopwords).generate(text_data)\n",
    "\n",
    "plt.figure(figsize=(10, 5))\n",
    "plt.imshow(wordcloud, interpolation=\"bilinear\")\n",
    "plt.axis(\"off\")\n",
    "plt.title(\"Biểu đồ Word Cloud - Các từ phổ biến trong tiêu đề\", fontsize=16)\n",
    "plt.show()"
   ]
  },
  {
   "cell_type": "markdown",
   "metadata": {},
   "source": [
    "**Phân tích và so sánh các từ phổ biến của 2 nick tiktok (Dòng Máu Việt và Công Ken)**\n",
    "- Dòng Máu Việt: Các từ nổi bật như \"Người\", \"Việt Nam\", \"Anh Hùng\", \"Chiến Tranh\", \"Tổ Quốc\", \"Bác Hồ\" cho thấy nội dung tài khoản này tập trung vào lịch sử, tinh thần dân tộc và các câu chuyện liên quan đến lịch sử Việt Nam.\n",
    "- Công Ken: Các từ như \"Không\", \"Ko\", \"Quá\", \"Đi\", \"Vui\", \"Buồn\", \"Cười\", \"Xem\" nó thể hiện sự giao tiếp giản dị, nhanh chóng và dễ tiếp cận. Ngoài ra, còn thường xuyên xuất hiện các từ ngữ giao tiếp đời sống thường ngày và cảm xúc như \"Mình\", \"Nhé\", \"Ai\", \"Lâu\", \"Thấy\". Những từ này giúp tạo sự kết nối với cộng đồng, thể hiện cảm xúc cá nhân, đồng thời khuyến khích sự tham gia và tương tác từ người xem. "
   ]
  },
  {
   "cell_type": "markdown",
   "metadata": {},
   "source": [
    "### 2.4 So sánh thời lượng video giữa 2 tài khoản"
   ]
  },
  {
   "cell_type": "code",
   "execution_count": null,
   "metadata": {},
   "outputs": [],
   "source": [
    "video_duration_comparison = pd.DataFrame()\n",
    "video_duration_comparison[''] = ['Trung bình', 'Phương sai', 'Độ lệch chuẩn', 'Thời lượng video dài nhất', 'Thời lượng video ngắn nhất']\n",
    "video_duration_comparison['Dòng Máu Việt'] = [read_df['videoMeta/duration'].mean(), read_df['videoMeta/duration'].var(), read_df['videoMeta/duration'].std(), read_df['videoMeta/duration'].max(), read_df['videoMeta/duration'].min()]\n",
    "video_duration_comparison['Công Ken'] = [read_df2['videoMeta/duration'].mean(), read_df2['videoMeta/duration'].var(), read_df2['videoMeta/duration'].std(), read_df2['videoMeta/duration'].max(), read_df2['videoMeta/duration'].min()]\n",
    "video_duration_comparison"
   ]
  },
  {
   "cell_type": "code",
   "execution_count": null,
   "metadata": {},
   "outputs": [],
   "source": [
    "Median_df1 = read_df['videoMeta/duration'].median()  \n",
    "Mean_df1 = read_df['videoMeta/duration'].mean()   \n",
    "Median_df2 = read_df2['videoMeta/duration'].median()  \n",
    "Mean_df2 = read_df2['videoMeta/duration'].mean()     \n",
    "\n",
    "plt.figure(figsize=(18, 8))\n",
    "sns.set_theme(style=\"whitegrid\", context=\"talk\")\n",
    "\n",
    "\n",
    "plt.subplot(1, 2, 1)\n",
    "sns.stripplot(\n",
    "    data=read_df,\n",
    "    x=\"videoMeta/duration\",\n",
    "    color=\"orange\",\n",
    "    jitter=0.25,\n",
    "    size=6,\n",
    "    alpha=0.8\n",
    ")\n",
    "\n",
    "plt.axvline(Median_df1, color='blue', linestyle='--', label=f'Trung vị: {Median_df1:.1f}s', linewidth=2)\n",
    "plt.axvline(Mean_df1, color='red', linestyle='-', label=f'Trung bình: {Mean_df1:.1f}s', linewidth=2)\n",
    "plt.title(\"Phân bố độ dài video (Dòng Máu Việt)\", fontsize=18, fontweight='bold', pad=20)\n",
    "plt.xlabel(\"Thời lượng video (giây)\", fontsize=14, labelpad=10)\n",
    "plt.ylabel(\"Tần suất\", fontsize=14, labelpad=10)\n",
    "plt.xticks(fontsize=12, rotation=0)\n",
    "plt.yticks(fontsize=12)\n",
    "plt.xlim(10, 180)\n",
    "plt.legend(fontsize=12, loc='upper right')\n",
    "plt.grid(axis='x', linestyle='--', alpha=0.5)\n",
    "\n",
    "# Biểu đồ 2: Phân bố độ dài video cho read_df2\n",
    "plt.subplot(1, 2, 2)\n",
    "sns.stripplot(\n",
    "    data=read_df2,\n",
    "    x=\"videoMeta/duration\",\n",
    "    color=\"green\",\n",
    "    jitter=0.25,\n",
    "    size=6,\n",
    "    alpha=0.8\n",
    ")\n",
    "\n",
    "plt.axvline(Median_df2, color='blue', linestyle='--', label=f'Trung vị: {Median_df2:.1f}s', linewidth=2)\n",
    "plt.axvline(Mean_df2, color='red', linestyle='-', label=f'Trung bình: {Mean_df2:.1f}s', linewidth=2)\n",
    "plt.title(\"Phân bố độ dài video (Công Ken)\", fontsize=18, fontweight='bold', pad=20)\n",
    "plt.xlabel(\"Thời lượng video (giây)\", fontsize=14, labelpad=10)\n",
    "plt.ylabel(\"Tần suất\", fontsize=14, labelpad=10)\n",
    "plt.xticks(fontsize=12, rotation=0)\n",
    "plt.yticks(fontsize=12)\n",
    "plt.xlim(10, 180)\n",
    "plt.legend(fontsize=12, loc='upper right')\n",
    "plt.grid(axis='x', linestyle='--', alpha=0.5)\n",
    "\n",
    "plt.tight_layout()\n",
    "plt.show()"
   ]
  },
  {
   "cell_type": "markdown",
   "metadata": {},
   "source": [
    "Phân bố tần suất độ dài của Công Ken khá đồng đều, trong khi của Dòng Máu Việt lại chủ yếu phân bố dưới 60s"
   ]
  },
  {
   "cell_type": "markdown",
   "metadata": {},
   "source": [
    "Thêm vào đó ta có thể thấy được rằng trong khi tần suất trung bình độ dài video của Dòng Máu Việt phân bố khá lệch phải (nhiều video dài hơn kéo trung bình cao hơn trung vị) và các video có xu hướng tập trung ở khoảng dưới 120 giây, thì đối với tài khoản Công Ken, phân bố lệch trái (nhiều video ngắn hơn kéo trung bình xuống thấp hơn trung vị) và các có xu hướng dài hơn so với Dòng Máu Việt."
   ]
  }
 ],
 "metadata": {
  "kernelspec": {
   "display_name": "Python 3 (ipykernel)",
   "language": "python",
   "name": "python3"
  },
  "language_info": {
   "codemirror_mode": {
    "name": "ipython",
    "version": 3
   },
   "file_extension": ".py",
   "mimetype": "text/x-python",
   "name": "python",
   "nbconvert_exporter": "python",
   "pygments_lexer": "ipython3",
   "version": "3.12.3"
  }
 },
 "nbformat": 4,
 "nbformat_minor": 4
}
